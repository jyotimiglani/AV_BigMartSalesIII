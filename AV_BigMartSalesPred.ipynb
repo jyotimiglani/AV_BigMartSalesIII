{
 "cells": [
  {
   "cell_type": "code",
   "execution_count": 2,
   "metadata": {},
   "outputs": [],
   "source": [
    "import pandas as pd\n",
    "import numpy as np"
   ]
  },
  {
   "cell_type": "code",
   "execution_count": 3,
   "metadata": {},
   "outputs": [],
   "source": [
    "train_df=pd.read_csv('../data/train.csv')"
   ]
  },
  {
   "cell_type": "code",
   "execution_count": 4,
   "metadata": {},
   "outputs": [
    {
     "data": {
      "text/html": [
       "<div>\n",
       "<style scoped>\n",
       "    .dataframe tbody tr th:only-of-type {\n",
       "        vertical-align: middle;\n",
       "    }\n",
       "\n",
       "    .dataframe tbody tr th {\n",
       "        vertical-align: top;\n",
       "    }\n",
       "\n",
       "    .dataframe thead th {\n",
       "        text-align: right;\n",
       "    }\n",
       "</style>\n",
       "<table border=\"1\" class=\"dataframe\">\n",
       "  <thead>\n",
       "    <tr style=\"text-align: right;\">\n",
       "      <th></th>\n",
       "      <th>Item_Identifier</th>\n",
       "      <th>Item_Weight</th>\n",
       "      <th>Item_Fat_Content</th>\n",
       "      <th>Item_Visibility</th>\n",
       "      <th>Item_Type</th>\n",
       "      <th>Item_MRP</th>\n",
       "      <th>Outlet_Identifier</th>\n",
       "      <th>Outlet_Establishment_Year</th>\n",
       "      <th>Outlet_Size</th>\n",
       "      <th>Outlet_Location_Type</th>\n",
       "      <th>Outlet_Type</th>\n",
       "      <th>Item_Outlet_Sales</th>\n",
       "    </tr>\n",
       "  </thead>\n",
       "  <tbody>\n",
       "    <tr>\n",
       "      <td>0</td>\n",
       "      <td>FDA15</td>\n",
       "      <td>9.30</td>\n",
       "      <td>Low Fat</td>\n",
       "      <td>0.016047</td>\n",
       "      <td>Dairy</td>\n",
       "      <td>249.8092</td>\n",
       "      <td>OUT049</td>\n",
       "      <td>1999</td>\n",
       "      <td>Medium</td>\n",
       "      <td>Tier 1</td>\n",
       "      <td>Supermarket Type1</td>\n",
       "      <td>3735.1380</td>\n",
       "    </tr>\n",
       "    <tr>\n",
       "      <td>1</td>\n",
       "      <td>DRC01</td>\n",
       "      <td>5.92</td>\n",
       "      <td>Regular</td>\n",
       "      <td>0.019278</td>\n",
       "      <td>Soft Drinks</td>\n",
       "      <td>48.2692</td>\n",
       "      <td>OUT018</td>\n",
       "      <td>2009</td>\n",
       "      <td>Medium</td>\n",
       "      <td>Tier 3</td>\n",
       "      <td>Supermarket Type2</td>\n",
       "      <td>443.4228</td>\n",
       "    </tr>\n",
       "    <tr>\n",
       "      <td>2</td>\n",
       "      <td>FDN15</td>\n",
       "      <td>17.50</td>\n",
       "      <td>Low Fat</td>\n",
       "      <td>0.016760</td>\n",
       "      <td>Meat</td>\n",
       "      <td>141.6180</td>\n",
       "      <td>OUT049</td>\n",
       "      <td>1999</td>\n",
       "      <td>Medium</td>\n",
       "      <td>Tier 1</td>\n",
       "      <td>Supermarket Type1</td>\n",
       "      <td>2097.2700</td>\n",
       "    </tr>\n",
       "    <tr>\n",
       "      <td>3</td>\n",
       "      <td>FDX07</td>\n",
       "      <td>19.20</td>\n",
       "      <td>Regular</td>\n",
       "      <td>0.000000</td>\n",
       "      <td>Fruits and Vegetables</td>\n",
       "      <td>182.0950</td>\n",
       "      <td>OUT010</td>\n",
       "      <td>1998</td>\n",
       "      <td>NaN</td>\n",
       "      <td>Tier 3</td>\n",
       "      <td>Grocery Store</td>\n",
       "      <td>732.3800</td>\n",
       "    </tr>\n",
       "    <tr>\n",
       "      <td>4</td>\n",
       "      <td>NCD19</td>\n",
       "      <td>8.93</td>\n",
       "      <td>Low Fat</td>\n",
       "      <td>0.000000</td>\n",
       "      <td>Household</td>\n",
       "      <td>53.8614</td>\n",
       "      <td>OUT013</td>\n",
       "      <td>1987</td>\n",
       "      <td>High</td>\n",
       "      <td>Tier 3</td>\n",
       "      <td>Supermarket Type1</td>\n",
       "      <td>994.7052</td>\n",
       "    </tr>\n",
       "  </tbody>\n",
       "</table>\n",
       "</div>"
      ],
      "text/plain": [
       "  Item_Identifier  Item_Weight Item_Fat_Content  Item_Visibility  \\\n",
       "0           FDA15         9.30          Low Fat         0.016047   \n",
       "1           DRC01         5.92          Regular         0.019278   \n",
       "2           FDN15        17.50          Low Fat         0.016760   \n",
       "3           FDX07        19.20          Regular         0.000000   \n",
       "4           NCD19         8.93          Low Fat         0.000000   \n",
       "\n",
       "               Item_Type  Item_MRP Outlet_Identifier  \\\n",
       "0                  Dairy  249.8092            OUT049   \n",
       "1            Soft Drinks   48.2692            OUT018   \n",
       "2                   Meat  141.6180            OUT049   \n",
       "3  Fruits and Vegetables  182.0950            OUT010   \n",
       "4              Household   53.8614            OUT013   \n",
       "\n",
       "   Outlet_Establishment_Year Outlet_Size Outlet_Location_Type  \\\n",
       "0                       1999      Medium               Tier 1   \n",
       "1                       2009      Medium               Tier 3   \n",
       "2                       1999      Medium               Tier 1   \n",
       "3                       1998         NaN               Tier 3   \n",
       "4                       1987        High               Tier 3   \n",
       "\n",
       "         Outlet_Type  Item_Outlet_Sales  \n",
       "0  Supermarket Type1          3735.1380  \n",
       "1  Supermarket Type2           443.4228  \n",
       "2  Supermarket Type1          2097.2700  \n",
       "3      Grocery Store           732.3800  \n",
       "4  Supermarket Type1           994.7052  "
      ]
     },
     "execution_count": 4,
     "metadata": {},
     "output_type": "execute_result"
    }
   ],
   "source": [
    "train_df.head()"
   ]
  },
  {
   "cell_type": "code",
   "execution_count": 5,
   "metadata": {},
   "outputs": [],
   "source": [
    "test_df=pd.read_csv('../data/test.csv')"
   ]
  },
  {
   "cell_type": "code",
   "execution_count": 6,
   "metadata": {
    "scrolled": true
   },
   "outputs": [
    {
     "data": {
      "text/plain": [
       "(5681, 11)"
      ]
     },
     "execution_count": 6,
     "metadata": {},
     "output_type": "execute_result"
    }
   ],
   "source": [
    "test_df.shape"
   ]
  },
  {
   "cell_type": "code",
   "execution_count": 7,
   "metadata": {},
   "outputs": [
    {
     "data": {
      "text/plain": [
       "(8523, 12)"
      ]
     },
     "execution_count": 7,
     "metadata": {},
     "output_type": "execute_result"
    }
   ],
   "source": [
    "train_df.shape"
   ]
  },
  {
   "cell_type": "markdown",
   "metadata": {},
   "source": [
    "# Step 1: Hypothesis\n",
    "\n",
    "1. Tier 1 outlet store should have higher sales\n",
    "2. Sale should vary by the type of outlet\n",
    "3. Older outlet establishment might have higher sales\n",
    "4. High outlet size mean high sales\n",
    "5. Items with higher visibility should have high sales\n",
    "6. Daily use items should have high sales"
   ]
  },
  {
   "cell_type": "markdown",
   "metadata": {},
   "source": [
    "# Step 2: Data Exploration"
   ]
  },
  {
   "cell_type": "code",
   "execution_count": 8,
   "metadata": {},
   "outputs": [
    {
     "name": "stderr",
     "output_type": "stream",
     "text": [
      "c:\\users\\rajin\\appdata\\local\\programs\\python\\python37-32\\lib\\site-packages\\ipykernel_launcher.py:6: FutureWarning: Sorting because non-concatenation axis is not aligned. A future version\n",
      "of pandas will change to not sort by default.\n",
      "\n",
      "To accept the future behavior, pass 'sort=False'.\n",
      "\n",
      "To retain the current behavior and silence the warning, pass 'sort=True'.\n",
      "\n",
      "  \n"
     ]
    }
   ],
   "source": [
    "#Lets combine both data sets train & test in to one\n",
    "\n",
    "train_df['source']='train'\n",
    "test_df['source']='test'\n",
    "\n",
    "data=pd.concat([train_df,test_df],ignore_index=True)"
   ]
  },
  {
   "cell_type": "code",
   "execution_count": 9,
   "metadata": {},
   "outputs": [
    {
     "data": {
      "text/html": [
       "<div>\n",
       "<style scoped>\n",
       "    .dataframe tbody tr th:only-of-type {\n",
       "        vertical-align: middle;\n",
       "    }\n",
       "\n",
       "    .dataframe tbody tr th {\n",
       "        vertical-align: top;\n",
       "    }\n",
       "\n",
       "    .dataframe thead th {\n",
       "        text-align: right;\n",
       "    }\n",
       "</style>\n",
       "<table border=\"1\" class=\"dataframe\">\n",
       "  <thead>\n",
       "    <tr style=\"text-align: right;\">\n",
       "      <th></th>\n",
       "      <th>Item_Fat_Content</th>\n",
       "      <th>Item_Identifier</th>\n",
       "      <th>Item_MRP</th>\n",
       "      <th>Item_Outlet_Sales</th>\n",
       "      <th>Item_Type</th>\n",
       "      <th>Item_Visibility</th>\n",
       "      <th>Item_Weight</th>\n",
       "      <th>Outlet_Establishment_Year</th>\n",
       "      <th>Outlet_Identifier</th>\n",
       "      <th>Outlet_Location_Type</th>\n",
       "      <th>Outlet_Size</th>\n",
       "      <th>Outlet_Type</th>\n",
       "      <th>source</th>\n",
       "    </tr>\n",
       "  </thead>\n",
       "  <tbody>\n",
       "    <tr>\n",
       "      <td>0</td>\n",
       "      <td>Low Fat</td>\n",
       "      <td>FDA15</td>\n",
       "      <td>249.8092</td>\n",
       "      <td>3735.1380</td>\n",
       "      <td>Dairy</td>\n",
       "      <td>0.016047</td>\n",
       "      <td>9.30</td>\n",
       "      <td>1999</td>\n",
       "      <td>OUT049</td>\n",
       "      <td>Tier 1</td>\n",
       "      <td>Medium</td>\n",
       "      <td>Supermarket Type1</td>\n",
       "      <td>train</td>\n",
       "    </tr>\n",
       "    <tr>\n",
       "      <td>1</td>\n",
       "      <td>Regular</td>\n",
       "      <td>DRC01</td>\n",
       "      <td>48.2692</td>\n",
       "      <td>443.4228</td>\n",
       "      <td>Soft Drinks</td>\n",
       "      <td>0.019278</td>\n",
       "      <td>5.92</td>\n",
       "      <td>2009</td>\n",
       "      <td>OUT018</td>\n",
       "      <td>Tier 3</td>\n",
       "      <td>Medium</td>\n",
       "      <td>Supermarket Type2</td>\n",
       "      <td>train</td>\n",
       "    </tr>\n",
       "    <tr>\n",
       "      <td>2</td>\n",
       "      <td>Low Fat</td>\n",
       "      <td>FDN15</td>\n",
       "      <td>141.6180</td>\n",
       "      <td>2097.2700</td>\n",
       "      <td>Meat</td>\n",
       "      <td>0.016760</td>\n",
       "      <td>17.50</td>\n",
       "      <td>1999</td>\n",
       "      <td>OUT049</td>\n",
       "      <td>Tier 1</td>\n",
       "      <td>Medium</td>\n",
       "      <td>Supermarket Type1</td>\n",
       "      <td>train</td>\n",
       "    </tr>\n",
       "    <tr>\n",
       "      <td>3</td>\n",
       "      <td>Regular</td>\n",
       "      <td>FDX07</td>\n",
       "      <td>182.0950</td>\n",
       "      <td>732.3800</td>\n",
       "      <td>Fruits and Vegetables</td>\n",
       "      <td>0.000000</td>\n",
       "      <td>19.20</td>\n",
       "      <td>1998</td>\n",
       "      <td>OUT010</td>\n",
       "      <td>Tier 3</td>\n",
       "      <td>NaN</td>\n",
       "      <td>Grocery Store</td>\n",
       "      <td>train</td>\n",
       "    </tr>\n",
       "    <tr>\n",
       "      <td>4</td>\n",
       "      <td>Low Fat</td>\n",
       "      <td>NCD19</td>\n",
       "      <td>53.8614</td>\n",
       "      <td>994.7052</td>\n",
       "      <td>Household</td>\n",
       "      <td>0.000000</td>\n",
       "      <td>8.93</td>\n",
       "      <td>1987</td>\n",
       "      <td>OUT013</td>\n",
       "      <td>Tier 3</td>\n",
       "      <td>High</td>\n",
       "      <td>Supermarket Type1</td>\n",
       "      <td>train</td>\n",
       "    </tr>\n",
       "  </tbody>\n",
       "</table>\n",
       "</div>"
      ],
      "text/plain": [
       "  Item_Fat_Content Item_Identifier  Item_MRP  Item_Outlet_Sales  \\\n",
       "0          Low Fat           FDA15  249.8092          3735.1380   \n",
       "1          Regular           DRC01   48.2692           443.4228   \n",
       "2          Low Fat           FDN15  141.6180          2097.2700   \n",
       "3          Regular           FDX07  182.0950           732.3800   \n",
       "4          Low Fat           NCD19   53.8614           994.7052   \n",
       "\n",
       "               Item_Type  Item_Visibility  Item_Weight  \\\n",
       "0                  Dairy         0.016047         9.30   \n",
       "1            Soft Drinks         0.019278         5.92   \n",
       "2                   Meat         0.016760        17.50   \n",
       "3  Fruits and Vegetables         0.000000        19.20   \n",
       "4              Household         0.000000         8.93   \n",
       "\n",
       "   Outlet_Establishment_Year Outlet_Identifier Outlet_Location_Type  \\\n",
       "0                       1999            OUT049               Tier 1   \n",
       "1                       2009            OUT018               Tier 3   \n",
       "2                       1999            OUT049               Tier 1   \n",
       "3                       1998            OUT010               Tier 3   \n",
       "4                       1987            OUT013               Tier 3   \n",
       "\n",
       "  Outlet_Size        Outlet_Type source  \n",
       "0      Medium  Supermarket Type1  train  \n",
       "1      Medium  Supermarket Type2  train  \n",
       "2      Medium  Supermarket Type1  train  \n",
       "3         NaN      Grocery Store  train  \n",
       "4        High  Supermarket Type1  train  "
      ]
     },
     "execution_count": 9,
     "metadata": {},
     "output_type": "execute_result"
    }
   ],
   "source": [
    "data.head()"
   ]
  },
  {
   "cell_type": "code",
   "execution_count": 10,
   "metadata": {},
   "outputs": [
    {
     "data": {
      "text/plain": [
       "(14204, 13)"
      ]
     },
     "execution_count": 10,
     "metadata": {},
     "output_type": "execute_result"
    }
   ],
   "source": [
    "data.shape"
   ]
  },
  {
   "cell_type": "code",
   "execution_count": 11,
   "metadata": {},
   "outputs": [
    {
     "data": {
      "text/plain": [
       "Item_Fat_Content                0\n",
       "Item_Identifier                 0\n",
       "Item_MRP                        0\n",
       "Item_Outlet_Sales            5681\n",
       "Item_Type                       0\n",
       "Item_Visibility                 0\n",
       "Item_Weight                  2439\n",
       "Outlet_Establishment_Year       0\n",
       "Outlet_Identifier               0\n",
       "Outlet_Location_Type            0\n",
       "Outlet_Size                  4016\n",
       "Outlet_Type                     0\n",
       "source                          0\n",
       "dtype: int64"
      ]
     },
     "execution_count": 11,
     "metadata": {},
     "output_type": "execute_result"
    }
   ],
   "source": [
    "#Check missing values\n",
    "\n",
    "data.isnull().sum()"
   ]
  },
  {
   "cell_type": "code",
   "execution_count": 12,
   "metadata": {},
   "outputs": [
    {
     "data": {
      "text/html": [
       "<div>\n",
       "<style scoped>\n",
       "    .dataframe tbody tr th:only-of-type {\n",
       "        vertical-align: middle;\n",
       "    }\n",
       "\n",
       "    .dataframe tbody tr th {\n",
       "        vertical-align: top;\n",
       "    }\n",
       "\n",
       "    .dataframe thead th {\n",
       "        text-align: right;\n",
       "    }\n",
       "</style>\n",
       "<table border=\"1\" class=\"dataframe\">\n",
       "  <thead>\n",
       "    <tr style=\"text-align: right;\">\n",
       "      <th></th>\n",
       "      <th>Item_MRP</th>\n",
       "      <th>Item_Outlet_Sales</th>\n",
       "      <th>Item_Visibility</th>\n",
       "      <th>Item_Weight</th>\n",
       "      <th>Outlet_Establishment_Year</th>\n",
       "    </tr>\n",
       "  </thead>\n",
       "  <tbody>\n",
       "    <tr>\n",
       "      <td>count</td>\n",
       "      <td>14204.000000</td>\n",
       "      <td>8523.000000</td>\n",
       "      <td>14204.000000</td>\n",
       "      <td>11765.000000</td>\n",
       "      <td>14204.000000</td>\n",
       "    </tr>\n",
       "    <tr>\n",
       "      <td>mean</td>\n",
       "      <td>141.004977</td>\n",
       "      <td>2181.288914</td>\n",
       "      <td>0.065953</td>\n",
       "      <td>12.792854</td>\n",
       "      <td>1997.830681</td>\n",
       "    </tr>\n",
       "    <tr>\n",
       "      <td>std</td>\n",
       "      <td>62.086938</td>\n",
       "      <td>1706.499616</td>\n",
       "      <td>0.051459</td>\n",
       "      <td>4.652502</td>\n",
       "      <td>8.371664</td>\n",
       "    </tr>\n",
       "    <tr>\n",
       "      <td>min</td>\n",
       "      <td>31.290000</td>\n",
       "      <td>33.290000</td>\n",
       "      <td>0.000000</td>\n",
       "      <td>4.555000</td>\n",
       "      <td>1985.000000</td>\n",
       "    </tr>\n",
       "    <tr>\n",
       "      <td>25%</td>\n",
       "      <td>94.012000</td>\n",
       "      <td>834.247400</td>\n",
       "      <td>0.027036</td>\n",
       "      <td>8.710000</td>\n",
       "      <td>1987.000000</td>\n",
       "    </tr>\n",
       "    <tr>\n",
       "      <td>50%</td>\n",
       "      <td>142.247000</td>\n",
       "      <td>1794.331000</td>\n",
       "      <td>0.054021</td>\n",
       "      <td>12.600000</td>\n",
       "      <td>1999.000000</td>\n",
       "    </tr>\n",
       "    <tr>\n",
       "      <td>75%</td>\n",
       "      <td>185.855600</td>\n",
       "      <td>3101.296400</td>\n",
       "      <td>0.094037</td>\n",
       "      <td>16.750000</td>\n",
       "      <td>2004.000000</td>\n",
       "    </tr>\n",
       "    <tr>\n",
       "      <td>max</td>\n",
       "      <td>266.888400</td>\n",
       "      <td>13086.964800</td>\n",
       "      <td>0.328391</td>\n",
       "      <td>21.350000</td>\n",
       "      <td>2009.000000</td>\n",
       "    </tr>\n",
       "  </tbody>\n",
       "</table>\n",
       "</div>"
      ],
      "text/plain": [
       "           Item_MRP  Item_Outlet_Sales  Item_Visibility   Item_Weight  \\\n",
       "count  14204.000000        8523.000000     14204.000000  11765.000000   \n",
       "mean     141.004977        2181.288914         0.065953     12.792854   \n",
       "std       62.086938        1706.499616         0.051459      4.652502   \n",
       "min       31.290000          33.290000         0.000000      4.555000   \n",
       "25%       94.012000         834.247400         0.027036      8.710000   \n",
       "50%      142.247000        1794.331000         0.054021     12.600000   \n",
       "75%      185.855600        3101.296400         0.094037     16.750000   \n",
       "max      266.888400       13086.964800         0.328391     21.350000   \n",
       "\n",
       "       Outlet_Establishment_Year  \n",
       "count               14204.000000  \n",
       "mean                 1997.830681  \n",
       "std                     8.371664  \n",
       "min                  1985.000000  \n",
       "25%                  1987.000000  \n",
       "50%                  1999.000000  \n",
       "75%                  2004.000000  \n",
       "max                  2009.000000  "
      ]
     },
     "execution_count": 12,
     "metadata": {},
     "output_type": "execute_result"
    }
   ],
   "source": [
    "data.describe()"
   ]
  },
  {
   "cell_type": "markdown",
   "metadata": {},
   "source": [
    "1. Item visibility minimum zero does not make any sense. If the item is available in store its visibility has to be greater than 0\n",
    "2. Outlet establishment year range from 1985 to 2009. For modeling purpose it will be better to compute the age of outlet.inf"
   ]
  },
  {
   "cell_type": "code",
   "execution_count": 13,
   "metadata": {},
   "outputs": [
    {
     "data": {
      "text/plain": [
       "Item_Fat_Content                 5\n",
       "Item_Identifier               1559\n",
       "Item_MRP                      8052\n",
       "Item_Outlet_Sales             3494\n",
       "Item_Type                       16\n",
       "Item_Visibility              13006\n",
       "Item_Weight                    416\n",
       "Outlet_Establishment_Year        9\n",
       "Outlet_Identifier               10\n",
       "Outlet_Location_Type             3\n",
       "Outlet_Size                      4\n",
       "Outlet_Type                      4\n",
       "source                           2\n",
       "dtype: int64"
      ]
     },
     "execution_count": 13,
     "metadata": {},
     "output_type": "execute_result"
    }
   ],
   "source": [
    "data.apply(lambda x: len(x.unique()))"
   ]
  },
  {
   "cell_type": "markdown",
   "metadata": {},
   "source": [
    "1. There are 1559 distinct items and 10 stores\n",
    "2. there are 16 different item types "
   ]
  },
  {
   "cell_type": "code",
   "execution_count": 14,
   "metadata": {},
   "outputs": [
    {
     "name": "stdout",
     "output_type": "stream",
     "text": [
      "<class 'pandas.core.frame.DataFrame'>\n",
      "RangeIndex: 14204 entries, 0 to 14203\n",
      "Data columns (total 13 columns):\n",
      "Item_Fat_Content             14204 non-null object\n",
      "Item_Identifier              14204 non-null object\n",
      "Item_MRP                     14204 non-null float64\n",
      "Item_Outlet_Sales            8523 non-null float64\n",
      "Item_Type                    14204 non-null object\n",
      "Item_Visibility              14204 non-null float64\n",
      "Item_Weight                  11765 non-null float64\n",
      "Outlet_Establishment_Year    14204 non-null int64\n",
      "Outlet_Identifier            14204 non-null object\n",
      "Outlet_Location_Type         14204 non-null object\n",
      "Outlet_Size                  10188 non-null object\n",
      "Outlet_Type                  14204 non-null object\n",
      "source                       14204 non-null object\n",
      "dtypes: float64(4), int64(1), object(8)\n",
      "memory usage: 998.8+ KB\n"
     ]
    }
   ],
   "source": [
    "data.info()"
   ]
  },
  {
   "cell_type": "code",
   "execution_count": 15,
   "metadata": {},
   "outputs": [
    {
     "data": {
      "text/plain": [
       "Item_Fat_Content              object\n",
       "Item_Identifier               object\n",
       "Item_MRP                     float64\n",
       "Item_Outlet_Sales            float64\n",
       "Item_Type                     object\n",
       "Item_Visibility              float64\n",
       "Item_Weight                  float64\n",
       "Outlet_Establishment_Year      int64\n",
       "Outlet_Identifier             object\n",
       "Outlet_Location_Type          object\n",
       "Outlet_Size                   object\n",
       "Outlet_Type                   object\n",
       "source                        object\n",
       "dtype: object"
      ]
     },
     "execution_count": 15,
     "metadata": {},
     "output_type": "execute_result"
    }
   ],
   "source": [
    "data.dtypes"
   ]
  },
  {
   "cell_type": "code",
   "execution_count": 16,
   "metadata": {
    "scrolled": true
   },
   "outputs": [
    {
     "name": "stdout",
     "output_type": "stream",
     "text": [
      "Categorical Values for Item_Fat_Content\n",
      "Low Fat    8485\n",
      "Regular    4824\n",
      "LF          522\n",
      "reg         195\n",
      "low fat     178\n",
      "Name: Item_Fat_Content, dtype: int64\n",
      "\n",
      "\n",
      "Categorical Values for Item_Type\n",
      "Fruits and Vegetables    2013\n",
      "Snack Foods              1989\n",
      "Household                1548\n",
      "Frozen Foods             1426\n",
      "Dairy                    1136\n",
      "Baking Goods             1086\n",
      "Canned                   1084\n",
      "Health and Hygiene        858\n",
      "Meat                      736\n",
      "Soft Drinks               726\n",
      "Breads                    416\n",
      "Hard Drinks               362\n",
      "Others                    280\n",
      "Starchy Foods             269\n",
      "Breakfast                 186\n",
      "Seafood                    89\n",
      "Name: Item_Type, dtype: int64\n",
      "\n",
      "\n",
      "Categorical Values for Outlet_Location_Type\n",
      "Tier 3    5583\n",
      "Tier 2    4641\n",
      "Tier 1    3980\n",
      "Name: Outlet_Location_Type, dtype: int64\n",
      "\n",
      "\n",
      "Categorical Values for Outlet_Size\n",
      "Medium    4655\n",
      "Small     3980\n",
      "High      1553\n",
      "Name: Outlet_Size, dtype: int64\n",
      "\n",
      "\n",
      "Categorical Values for Outlet_Type\n",
      "Supermarket Type1    9294\n",
      "Grocery Store        1805\n",
      "Supermarket Type3    1559\n",
      "Supermarket Type2    1546\n",
      "Name: Outlet_Type, dtype: int64\n",
      "\n",
      "\n"
     ]
    }
   ],
   "source": [
    "# Categorical Columns\n",
    "\n",
    "cat_col=[x for x in data.dtypes.index if data.dtypes[x]=='object']\n",
    "cat_col =[x for x in cat_col if x not in ['Item_Identifier','Outlet_Identifier','source']]\n",
    "\n",
    "for x in cat_col:\n",
    "    print('Categorical Values for %s'%x)\n",
    "    print(data[x].value_counts())\n",
    "    print('\\n')"
   ]
  },
  {
   "cell_type": "markdown",
   "metadata": {},
   "source": [
    "Item_Fat_Content: Some of Low Fat and Regular values miscoded.\n",
    "Item_Type: Not all Item_Type have substantial counts. May be we can combine some together\n",
    "Outlet_Type: May be Supermarket type2 & type3 can be combined together "
   ]
  },
  {
   "cell_type": "markdown",
   "metadata": {},
   "source": [
    "# Step 3: Data Cleaning\n",
    "\n",
    "Imputing missing values. \n",
    "Outlet_Size and Item_Weight have missing values and Item_Visibility has 0 as value which is not correct"
   ]
  },
  {
   "cell_type": "code",
   "execution_count": 17,
   "metadata": {},
   "outputs": [
    {
     "data": {
      "text/plain": [
       "Item_Weight    11.6\n",
       "Name: DRA12, dtype: float64"
      ]
     },
     "execution_count": 17,
     "metadata": {},
     "output_type": "execute_result"
    }
   ],
   "source": [
    "#Compute the avg weight of each item\n",
    "\n",
    "avg_weight=data.groupby(['Item_Identifier'])['Item_Weight'].mean().reset_index()\n",
    "avg_weight.set_index(keys='Item_Identifier',inplace=True)\n",
    "avg_weight.head()\n",
    "avg_weight.loc['DRA12']"
   ]
  },
  {
   "cell_type": "code",
   "execution_count": 18,
   "metadata": {},
   "outputs": [],
   "source": [
    "mbool=data['Item_Weight'].isnull()"
   ]
  },
  {
   "cell_type": "code",
   "execution_count": 19,
   "metadata": {},
   "outputs": [
    {
     "data": {
      "text/html": [
       "<div>\n",
       "<style scoped>\n",
       "    .dataframe tbody tr th:only-of-type {\n",
       "        vertical-align: middle;\n",
       "    }\n",
       "\n",
       "    .dataframe tbody tr th {\n",
       "        vertical-align: top;\n",
       "    }\n",
       "\n",
       "    .dataframe thead th {\n",
       "        text-align: right;\n",
       "    }\n",
       "</style>\n",
       "<table border=\"1\" class=\"dataframe\">\n",
       "  <thead>\n",
       "    <tr style=\"text-align: right;\">\n",
       "      <th></th>\n",
       "      <th>Item_Fat_Content</th>\n",
       "      <th>Item_Identifier</th>\n",
       "      <th>Item_MRP</th>\n",
       "      <th>Item_Outlet_Sales</th>\n",
       "      <th>Item_Type</th>\n",
       "      <th>Item_Visibility</th>\n",
       "      <th>Item_Weight</th>\n",
       "      <th>Outlet_Establishment_Year</th>\n",
       "      <th>Outlet_Identifier</th>\n",
       "      <th>Outlet_Location_Type</th>\n",
       "      <th>Outlet_Size</th>\n",
       "      <th>Outlet_Type</th>\n",
       "      <th>source</th>\n",
       "    </tr>\n",
       "  </thead>\n",
       "  <tbody>\n",
       "    <tr>\n",
       "      <td>7</td>\n",
       "      <td>Low Fat</td>\n",
       "      <td>FDP10</td>\n",
       "      <td>107.7622</td>\n",
       "      <td>4022.7636</td>\n",
       "      <td>Snack Foods</td>\n",
       "      <td>0.127470</td>\n",
       "      <td>NaN</td>\n",
       "      <td>1985</td>\n",
       "      <td>OUT027</td>\n",
       "      <td>Tier 3</td>\n",
       "      <td>Medium</td>\n",
       "      <td>Supermarket Type3</td>\n",
       "      <td>train</td>\n",
       "    </tr>\n",
       "    <tr>\n",
       "      <td>18</td>\n",
       "      <td>Low Fat</td>\n",
       "      <td>DRI11</td>\n",
       "      <td>113.2834</td>\n",
       "      <td>2303.6680</td>\n",
       "      <td>Hard Drinks</td>\n",
       "      <td>0.034238</td>\n",
       "      <td>NaN</td>\n",
       "      <td>1985</td>\n",
       "      <td>OUT027</td>\n",
       "      <td>Tier 3</td>\n",
       "      <td>Medium</td>\n",
       "      <td>Supermarket Type3</td>\n",
       "      <td>train</td>\n",
       "    </tr>\n",
       "    <tr>\n",
       "      <td>21</td>\n",
       "      <td>Regular</td>\n",
       "      <td>FDW12</td>\n",
       "      <td>144.5444</td>\n",
       "      <td>4064.0432</td>\n",
       "      <td>Baking Goods</td>\n",
       "      <td>0.035400</td>\n",
       "      <td>NaN</td>\n",
       "      <td>1985</td>\n",
       "      <td>OUT027</td>\n",
       "      <td>Tier 3</td>\n",
       "      <td>Medium</td>\n",
       "      <td>Supermarket Type3</td>\n",
       "      <td>train</td>\n",
       "    </tr>\n",
       "    <tr>\n",
       "      <td>23</td>\n",
       "      <td>Low Fat</td>\n",
       "      <td>FDC37</td>\n",
       "      <td>107.6938</td>\n",
       "      <td>214.3876</td>\n",
       "      <td>Baking Goods</td>\n",
       "      <td>0.057557</td>\n",
       "      <td>NaN</td>\n",
       "      <td>1985</td>\n",
       "      <td>OUT019</td>\n",
       "      <td>Tier 1</td>\n",
       "      <td>Small</td>\n",
       "      <td>Grocery Store</td>\n",
       "      <td>train</td>\n",
       "    </tr>\n",
       "    <tr>\n",
       "      <td>29</td>\n",
       "      <td>Regular</td>\n",
       "      <td>FDC14</td>\n",
       "      <td>43.6454</td>\n",
       "      <td>125.8362</td>\n",
       "      <td>Canned</td>\n",
       "      <td>0.072222</td>\n",
       "      <td>NaN</td>\n",
       "      <td>1985</td>\n",
       "      <td>OUT019</td>\n",
       "      <td>Tier 1</td>\n",
       "      <td>Small</td>\n",
       "      <td>Grocery Store</td>\n",
       "      <td>train</td>\n",
       "    </tr>\n",
       "    <tr>\n",
       "      <td>...</td>\n",
       "      <td>...</td>\n",
       "      <td>...</td>\n",
       "      <td>...</td>\n",
       "      <td>...</td>\n",
       "      <td>...</td>\n",
       "      <td>...</td>\n",
       "      <td>...</td>\n",
       "      <td>...</td>\n",
       "      <td>...</td>\n",
       "      <td>...</td>\n",
       "      <td>...</td>\n",
       "      <td>...</td>\n",
       "      <td>...</td>\n",
       "    </tr>\n",
       "    <tr>\n",
       "      <td>14178</td>\n",
       "      <td>Regular</td>\n",
       "      <td>FDX32</td>\n",
       "      <td>143.6786</td>\n",
       "      <td>NaN</td>\n",
       "      <td>Fruits and Vegetables</td>\n",
       "      <td>0.099375</td>\n",
       "      <td>NaN</td>\n",
       "      <td>1985</td>\n",
       "      <td>OUT027</td>\n",
       "      <td>Tier 3</td>\n",
       "      <td>Medium</td>\n",
       "      <td>Supermarket Type3</td>\n",
       "      <td>test</td>\n",
       "    </tr>\n",
       "    <tr>\n",
       "      <td>14179</td>\n",
       "      <td>Low Fat</td>\n",
       "      <td>FDC39</td>\n",
       "      <td>207.8296</td>\n",
       "      <td>NaN</td>\n",
       "      <td>Dairy</td>\n",
       "      <td>0.158425</td>\n",
       "      <td>NaN</td>\n",
       "      <td>1985</td>\n",
       "      <td>OUT027</td>\n",
       "      <td>Tier 3</td>\n",
       "      <td>Medium</td>\n",
       "      <td>Supermarket Type3</td>\n",
       "      <td>test</td>\n",
       "    </tr>\n",
       "    <tr>\n",
       "      <td>14184</td>\n",
       "      <td>Low Fat</td>\n",
       "      <td>DRG37</td>\n",
       "      <td>155.7972</td>\n",
       "      <td>NaN</td>\n",
       "      <td>Soft Drinks</td>\n",
       "      <td>0.000000</td>\n",
       "      <td>NaN</td>\n",
       "      <td>1985</td>\n",
       "      <td>OUT027</td>\n",
       "      <td>Tier 3</td>\n",
       "      <td>Medium</td>\n",
       "      <td>Supermarket Type3</td>\n",
       "      <td>test</td>\n",
       "    </tr>\n",
       "    <tr>\n",
       "      <td>14188</td>\n",
       "      <td>Low Fat</td>\n",
       "      <td>DRE03</td>\n",
       "      <td>46.0718</td>\n",
       "      <td>NaN</td>\n",
       "      <td>Dairy</td>\n",
       "      <td>0.024110</td>\n",
       "      <td>NaN</td>\n",
       "      <td>1985</td>\n",
       "      <td>OUT027</td>\n",
       "      <td>Tier 3</td>\n",
       "      <td>Medium</td>\n",
       "      <td>Supermarket Type3</td>\n",
       "      <td>test</td>\n",
       "    </tr>\n",
       "    <tr>\n",
       "      <td>14192</td>\n",
       "      <td>Low Fat</td>\n",
       "      <td>FDN31</td>\n",
       "      <td>188.0530</td>\n",
       "      <td>NaN</td>\n",
       "      <td>Fruits and Vegetables</td>\n",
       "      <td>0.072529</td>\n",
       "      <td>NaN</td>\n",
       "      <td>1985</td>\n",
       "      <td>OUT027</td>\n",
       "      <td>Tier 3</td>\n",
       "      <td>Medium</td>\n",
       "      <td>Supermarket Type3</td>\n",
       "      <td>test</td>\n",
       "    </tr>\n",
       "  </tbody>\n",
       "</table>\n",
       "<p>2439 rows × 13 columns</p>\n",
       "</div>"
      ],
      "text/plain": [
       "      Item_Fat_Content Item_Identifier  Item_MRP  Item_Outlet_Sales  \\\n",
       "7              Low Fat           FDP10  107.7622          4022.7636   \n",
       "18             Low Fat           DRI11  113.2834          2303.6680   \n",
       "21             Regular           FDW12  144.5444          4064.0432   \n",
       "23             Low Fat           FDC37  107.6938           214.3876   \n",
       "29             Regular           FDC14   43.6454           125.8362   \n",
       "...                ...             ...       ...                ...   \n",
       "14178          Regular           FDX32  143.6786                NaN   \n",
       "14179          Low Fat           FDC39  207.8296                NaN   \n",
       "14184          Low Fat           DRG37  155.7972                NaN   \n",
       "14188          Low Fat           DRE03   46.0718                NaN   \n",
       "14192          Low Fat           FDN31  188.0530                NaN   \n",
       "\n",
       "                   Item_Type  Item_Visibility  Item_Weight  \\\n",
       "7                Snack Foods         0.127470          NaN   \n",
       "18               Hard Drinks         0.034238          NaN   \n",
       "21              Baking Goods         0.035400          NaN   \n",
       "23              Baking Goods         0.057557          NaN   \n",
       "29                    Canned         0.072222          NaN   \n",
       "...                      ...              ...          ...   \n",
       "14178  Fruits and Vegetables         0.099375          NaN   \n",
       "14179                  Dairy         0.158425          NaN   \n",
       "14184            Soft Drinks         0.000000          NaN   \n",
       "14188                  Dairy         0.024110          NaN   \n",
       "14192  Fruits and Vegetables         0.072529          NaN   \n",
       "\n",
       "       Outlet_Establishment_Year Outlet_Identifier Outlet_Location_Type  \\\n",
       "7                           1985            OUT027               Tier 3   \n",
       "18                          1985            OUT027               Tier 3   \n",
       "21                          1985            OUT027               Tier 3   \n",
       "23                          1985            OUT019               Tier 1   \n",
       "29                          1985            OUT019               Tier 1   \n",
       "...                          ...               ...                  ...   \n",
       "14178                       1985            OUT027               Tier 3   \n",
       "14179                       1985            OUT027               Tier 3   \n",
       "14184                       1985            OUT027               Tier 3   \n",
       "14188                       1985            OUT027               Tier 3   \n",
       "14192                       1985            OUT027               Tier 3   \n",
       "\n",
       "      Outlet_Size        Outlet_Type source  \n",
       "7          Medium  Supermarket Type3  train  \n",
       "18         Medium  Supermarket Type3  train  \n",
       "21         Medium  Supermarket Type3  train  \n",
       "23          Small      Grocery Store  train  \n",
       "29          Small      Grocery Store  train  \n",
       "...           ...                ...    ...  \n",
       "14178      Medium  Supermarket Type3   test  \n",
       "14179      Medium  Supermarket Type3   test  \n",
       "14184      Medium  Supermarket Type3   test  \n",
       "14188      Medium  Supermarket Type3   test  \n",
       "14192      Medium  Supermarket Type3   test  \n",
       "\n",
       "[2439 rows x 13 columns]"
      ]
     },
     "execution_count": 19,
     "metadata": {},
     "output_type": "execute_result"
    }
   ],
   "source": [
    "data.loc[mbool]"
   ]
  },
  {
   "cell_type": "code",
   "execution_count": 20,
   "metadata": {},
   "outputs": [
    {
     "name": "stdout",
     "output_type": "stream",
     "text": [
      "Orignal #missing:  2439\n",
      "Final #missing:  0\n"
     ]
    }
   ],
   "source": [
    "data.loc[mbool,'Item_Weight'] =data.loc[mbool,'Item_Identifier'].apply(lambda x: avg_weight.loc[x].values[0])\n",
    "print ('Orignal #missing: ',sum(mbool))\n",
    "print ('Final #missing: ',sum(data['Item_Weight'].isnull()))"
   ]
  },
  {
   "cell_type": "markdown",
   "metadata": {},
   "source": [
    "## Now lets Impute Outlet Size"
   ]
  },
  {
   "cell_type": "code",
   "execution_count": 21,
   "metadata": {},
   "outputs": [
    {
     "data": {
      "text/plain": [
       "Medium    4655\n",
       "Small     3980\n",
       "High      1553\n",
       "Name: Outlet_Size, dtype: int64"
      ]
     },
     "execution_count": 21,
     "metadata": {},
     "output_type": "execute_result"
    }
   ],
   "source": [
    "data['Outlet_Size'].value_counts()"
   ]
  },
  {
   "cell_type": "markdown",
   "metadata": {},
   "source": [
    "Find the most common outlet size by outlet type "
   ]
  },
  {
   "cell_type": "code",
   "execution_count": 22,
   "metadata": {},
   "outputs": [
    {
     "data": {
      "text/html": [
       "<div>\n",
       "<style scoped>\n",
       "    .dataframe tbody tr th:only-of-type {\n",
       "        vertical-align: middle;\n",
       "    }\n",
       "\n",
       "    .dataframe tbody tr th {\n",
       "        vertical-align: top;\n",
       "    }\n",
       "\n",
       "    .dataframe thead th {\n",
       "        text-align: right;\n",
       "    }\n",
       "</style>\n",
       "<table border=\"1\" class=\"dataframe\">\n",
       "  <thead>\n",
       "    <tr style=\"text-align: right;\">\n",
       "      <th></th>\n",
       "      <th>Outlet_Size</th>\n",
       "    </tr>\n",
       "    <tr>\n",
       "      <th>Outlet_Type</th>\n",
       "      <th></th>\n",
       "    </tr>\n",
       "  </thead>\n",
       "  <tbody>\n",
       "    <tr>\n",
       "      <td>Grocery Store</td>\n",
       "      <td>Small</td>\n",
       "    </tr>\n",
       "    <tr>\n",
       "      <td>Supermarket Type1</td>\n",
       "      <td>Small</td>\n",
       "    </tr>\n",
       "    <tr>\n",
       "      <td>Supermarket Type2</td>\n",
       "      <td>Medium</td>\n",
       "    </tr>\n",
       "    <tr>\n",
       "      <td>Supermarket Type3</td>\n",
       "      <td>Medium</td>\n",
       "    </tr>\n",
       "  </tbody>\n",
       "</table>\n",
       "</div>"
      ],
      "text/plain": [
       "                  Outlet_Size\n",
       "Outlet_Type                  \n",
       "Grocery Store           Small\n",
       "Supermarket Type1       Small\n",
       "Supermarket Type2      Medium\n",
       "Supermarket Type3      Medium"
      ]
     },
     "execution_count": 22,
     "metadata": {},
     "output_type": "execute_result"
    }
   ],
   "source": [
    "from scipy import stats\n",
    "out_size_mode=data.groupby(['Outlet_Type'])['Outlet_Size'].apply(lambda x: stats.mode(x).mode[0]).reset_index()\n",
    "out_size_mode.set_index(keys='Outlet_Type',inplace=True)\n",
    "out_size_mode.head()"
   ]
  },
  {
   "cell_type": "code",
   "execution_count": 23,
   "metadata": {},
   "outputs": [
    {
     "data": {
      "text/html": [
       "<div>\n",
       "<style scoped>\n",
       "    .dataframe tbody tr th:only-of-type {\n",
       "        vertical-align: middle;\n",
       "    }\n",
       "\n",
       "    .dataframe tbody tr th {\n",
       "        vertical-align: top;\n",
       "    }\n",
       "\n",
       "    .dataframe thead th {\n",
       "        text-align: right;\n",
       "    }\n",
       "</style>\n",
       "<table border=\"1\" class=\"dataframe\">\n",
       "  <thead>\n",
       "    <tr style=\"text-align: right;\">\n",
       "      <th></th>\n",
       "      <th>Item_Fat_Content</th>\n",
       "      <th>Item_Identifier</th>\n",
       "      <th>Item_MRP</th>\n",
       "      <th>Item_Outlet_Sales</th>\n",
       "      <th>Item_Type</th>\n",
       "      <th>Item_Visibility</th>\n",
       "      <th>Item_Weight</th>\n",
       "      <th>Outlet_Establishment_Year</th>\n",
       "      <th>Outlet_Identifier</th>\n",
       "      <th>Outlet_Location_Type</th>\n",
       "      <th>Outlet_Size</th>\n",
       "      <th>Outlet_Type</th>\n",
       "      <th>source</th>\n",
       "    </tr>\n",
       "  </thead>\n",
       "  <tbody>\n",
       "    <tr>\n",
       "      <td>3</td>\n",
       "      <td>Regular</td>\n",
       "      <td>FDX07</td>\n",
       "      <td>182.0950</td>\n",
       "      <td>732.3800</td>\n",
       "      <td>Fruits and Vegetables</td>\n",
       "      <td>0.000000</td>\n",
       "      <td>19.200</td>\n",
       "      <td>1998</td>\n",
       "      <td>OUT010</td>\n",
       "      <td>Tier 3</td>\n",
       "      <td>NaN</td>\n",
       "      <td>Grocery Store</td>\n",
       "      <td>train</td>\n",
       "    </tr>\n",
       "    <tr>\n",
       "      <td>8</td>\n",
       "      <td>Regular</td>\n",
       "      <td>FDH17</td>\n",
       "      <td>96.9726</td>\n",
       "      <td>1076.5986</td>\n",
       "      <td>Frozen Foods</td>\n",
       "      <td>0.016687</td>\n",
       "      <td>16.200</td>\n",
       "      <td>2002</td>\n",
       "      <td>OUT045</td>\n",
       "      <td>Tier 2</td>\n",
       "      <td>NaN</td>\n",
       "      <td>Supermarket Type1</td>\n",
       "      <td>train</td>\n",
       "    </tr>\n",
       "    <tr>\n",
       "      <td>9</td>\n",
       "      <td>Regular</td>\n",
       "      <td>FDU28</td>\n",
       "      <td>187.8214</td>\n",
       "      <td>4710.5350</td>\n",
       "      <td>Frozen Foods</td>\n",
       "      <td>0.094450</td>\n",
       "      <td>19.200</td>\n",
       "      <td>2007</td>\n",
       "      <td>OUT017</td>\n",
       "      <td>Tier 2</td>\n",
       "      <td>NaN</td>\n",
       "      <td>Supermarket Type1</td>\n",
       "      <td>train</td>\n",
       "    </tr>\n",
       "    <tr>\n",
       "      <td>25</td>\n",
       "      <td>Low Fat</td>\n",
       "      <td>NCD06</td>\n",
       "      <td>45.9060</td>\n",
       "      <td>838.9080</td>\n",
       "      <td>Household</td>\n",
       "      <td>0.099887</td>\n",
       "      <td>13.000</td>\n",
       "      <td>2007</td>\n",
       "      <td>OUT017</td>\n",
       "      <td>Tier 2</td>\n",
       "      <td>NaN</td>\n",
       "      <td>Supermarket Type1</td>\n",
       "      <td>train</td>\n",
       "    </tr>\n",
       "    <tr>\n",
       "      <td>28</td>\n",
       "      <td>Regular</td>\n",
       "      <td>FDE51</td>\n",
       "      <td>45.5086</td>\n",
       "      <td>178.4344</td>\n",
       "      <td>Dairy</td>\n",
       "      <td>0.161467</td>\n",
       "      <td>5.925</td>\n",
       "      <td>1998</td>\n",
       "      <td>OUT010</td>\n",
       "      <td>Tier 3</td>\n",
       "      <td>NaN</td>\n",
       "      <td>Grocery Store</td>\n",
       "      <td>train</td>\n",
       "    </tr>\n",
       "    <tr>\n",
       "      <td>...</td>\n",
       "      <td>...</td>\n",
       "      <td>...</td>\n",
       "      <td>...</td>\n",
       "      <td>...</td>\n",
       "      <td>...</td>\n",
       "      <td>...</td>\n",
       "      <td>...</td>\n",
       "      <td>...</td>\n",
       "      <td>...</td>\n",
       "      <td>...</td>\n",
       "      <td>...</td>\n",
       "      <td>...</td>\n",
       "      <td>...</td>\n",
       "    </tr>\n",
       "    <tr>\n",
       "      <td>14191</td>\n",
       "      <td>Low Fat</td>\n",
       "      <td>FDC44</td>\n",
       "      <td>115.1518</td>\n",
       "      <td>NaN</td>\n",
       "      <td>Fruits and Vegetables</td>\n",
       "      <td>0.288892</td>\n",
       "      <td>15.600</td>\n",
       "      <td>1998</td>\n",
       "      <td>OUT010</td>\n",
       "      <td>Tier 3</td>\n",
       "      <td>NaN</td>\n",
       "      <td>Grocery Store</td>\n",
       "      <td>test</td>\n",
       "    </tr>\n",
       "    <tr>\n",
       "      <td>14193</td>\n",
       "      <td>Regular</td>\n",
       "      <td>FDO03</td>\n",
       "      <td>229.4352</td>\n",
       "      <td>NaN</td>\n",
       "      <td>Meat</td>\n",
       "      <td>0.037092</td>\n",
       "      <td>10.395</td>\n",
       "      <td>2007</td>\n",
       "      <td>OUT017</td>\n",
       "      <td>Tier 2</td>\n",
       "      <td>NaN</td>\n",
       "      <td>Supermarket Type1</td>\n",
       "      <td>test</td>\n",
       "    </tr>\n",
       "    <tr>\n",
       "      <td>14201</td>\n",
       "      <td>Low Fat</td>\n",
       "      <td>NCO17</td>\n",
       "      <td>118.7440</td>\n",
       "      <td>NaN</td>\n",
       "      <td>Health and Hygiene</td>\n",
       "      <td>0.073529</td>\n",
       "      <td>10.000</td>\n",
       "      <td>2002</td>\n",
       "      <td>OUT045</td>\n",
       "      <td>Tier 2</td>\n",
       "      <td>NaN</td>\n",
       "      <td>Supermarket Type1</td>\n",
       "      <td>test</td>\n",
       "    </tr>\n",
       "    <tr>\n",
       "      <td>14202</td>\n",
       "      <td>Regular</td>\n",
       "      <td>FDJ26</td>\n",
       "      <td>214.6218</td>\n",
       "      <td>NaN</td>\n",
       "      <td>Canned</td>\n",
       "      <td>0.000000</td>\n",
       "      <td>15.300</td>\n",
       "      <td>2007</td>\n",
       "      <td>OUT017</td>\n",
       "      <td>Tier 2</td>\n",
       "      <td>NaN</td>\n",
       "      <td>Supermarket Type1</td>\n",
       "      <td>test</td>\n",
       "    </tr>\n",
       "    <tr>\n",
       "      <td>14203</td>\n",
       "      <td>Regular</td>\n",
       "      <td>FDU37</td>\n",
       "      <td>79.7960</td>\n",
       "      <td>NaN</td>\n",
       "      <td>Canned</td>\n",
       "      <td>0.104720</td>\n",
       "      <td>9.500</td>\n",
       "      <td>2002</td>\n",
       "      <td>OUT045</td>\n",
       "      <td>Tier 2</td>\n",
       "      <td>NaN</td>\n",
       "      <td>Supermarket Type1</td>\n",
       "      <td>test</td>\n",
       "    </tr>\n",
       "  </tbody>\n",
       "</table>\n",
       "<p>4016 rows × 13 columns</p>\n",
       "</div>"
      ],
      "text/plain": [
       "      Item_Fat_Content Item_Identifier  Item_MRP  Item_Outlet_Sales  \\\n",
       "3              Regular           FDX07  182.0950           732.3800   \n",
       "8              Regular           FDH17   96.9726          1076.5986   \n",
       "9              Regular           FDU28  187.8214          4710.5350   \n",
       "25             Low Fat           NCD06   45.9060           838.9080   \n",
       "28             Regular           FDE51   45.5086           178.4344   \n",
       "...                ...             ...       ...                ...   \n",
       "14191          Low Fat           FDC44  115.1518                NaN   \n",
       "14193          Regular           FDO03  229.4352                NaN   \n",
       "14201          Low Fat           NCO17  118.7440                NaN   \n",
       "14202          Regular           FDJ26  214.6218                NaN   \n",
       "14203          Regular           FDU37   79.7960                NaN   \n",
       "\n",
       "                   Item_Type  Item_Visibility  Item_Weight  \\\n",
       "3      Fruits and Vegetables         0.000000       19.200   \n",
       "8               Frozen Foods         0.016687       16.200   \n",
       "9               Frozen Foods         0.094450       19.200   \n",
       "25                 Household         0.099887       13.000   \n",
       "28                     Dairy         0.161467        5.925   \n",
       "...                      ...              ...          ...   \n",
       "14191  Fruits and Vegetables         0.288892       15.600   \n",
       "14193                   Meat         0.037092       10.395   \n",
       "14201     Health and Hygiene         0.073529       10.000   \n",
       "14202                 Canned         0.000000       15.300   \n",
       "14203                 Canned         0.104720        9.500   \n",
       "\n",
       "       Outlet_Establishment_Year Outlet_Identifier Outlet_Location_Type  \\\n",
       "3                           1998            OUT010               Tier 3   \n",
       "8                           2002            OUT045               Tier 2   \n",
       "9                           2007            OUT017               Tier 2   \n",
       "25                          2007            OUT017               Tier 2   \n",
       "28                          1998            OUT010               Tier 3   \n",
       "...                          ...               ...                  ...   \n",
       "14191                       1998            OUT010               Tier 3   \n",
       "14193                       2007            OUT017               Tier 2   \n",
       "14201                       2002            OUT045               Tier 2   \n",
       "14202                       2007            OUT017               Tier 2   \n",
       "14203                       2002            OUT045               Tier 2   \n",
       "\n",
       "      Outlet_Size        Outlet_Type source  \n",
       "3             NaN      Grocery Store  train  \n",
       "8             NaN  Supermarket Type1  train  \n",
       "9             NaN  Supermarket Type1  train  \n",
       "25            NaN  Supermarket Type1  train  \n",
       "28            NaN      Grocery Store  train  \n",
       "...           ...                ...    ...  \n",
       "14191         NaN      Grocery Store   test  \n",
       "14193         NaN  Supermarket Type1   test  \n",
       "14201         NaN  Supermarket Type1   test  \n",
       "14202         NaN  Supermarket Type1   test  \n",
       "14203         NaN  Supermarket Type1   test  \n",
       "\n",
       "[4016 rows x 13 columns]"
      ]
     },
     "execution_count": 23,
     "metadata": {},
     "output_type": "execute_result"
    }
   ],
   "source": [
    "mbool=data['Outlet_Size'].isnull()\n",
    "data[mbool]"
   ]
  },
  {
   "cell_type": "code",
   "execution_count": 24,
   "metadata": {},
   "outputs": [
    {
     "name": "stdout",
     "output_type": "stream",
     "text": [
      "Original Missing:  4016\n",
      "Now Missing:  0\n"
     ]
    }
   ],
   "source": [
    "data.loc[mbool,'Outlet_Size']=data.loc[mbool,'Outlet_Type'].apply(lambda x: out_size_mode.loc[x].values[0])\n",
    "\n",
    "print('Original Missing: ',sum(mbool))\n",
    "print('Now Missing: ',data['Outlet_Size'].isnull().sum())"
   ]
  },
  {
   "cell_type": "code",
   "execution_count": 25,
   "metadata": {},
   "outputs": [
    {
     "data": {
      "text/html": [
       "<div>\n",
       "<style scoped>\n",
       "    .dataframe tbody tr th:only-of-type {\n",
       "        vertical-align: middle;\n",
       "    }\n",
       "\n",
       "    .dataframe tbody tr th {\n",
       "        vertical-align: top;\n",
       "    }\n",
       "\n",
       "    .dataframe thead th {\n",
       "        text-align: right;\n",
       "    }\n",
       "</style>\n",
       "<table border=\"1\" class=\"dataframe\">\n",
       "  <thead>\n",
       "    <tr style=\"text-align: right;\">\n",
       "      <th></th>\n",
       "      <th>Item_Fat_Content</th>\n",
       "      <th>Item_Identifier</th>\n",
       "      <th>Item_MRP</th>\n",
       "      <th>Item_Outlet_Sales</th>\n",
       "      <th>Item_Type</th>\n",
       "      <th>Item_Visibility</th>\n",
       "      <th>Item_Weight</th>\n",
       "      <th>Outlet_Establishment_Year</th>\n",
       "      <th>Outlet_Identifier</th>\n",
       "      <th>Outlet_Location_Type</th>\n",
       "      <th>Outlet_Size</th>\n",
       "      <th>Outlet_Type</th>\n",
       "      <th>source</th>\n",
       "    </tr>\n",
       "  </thead>\n",
       "  <tbody>\n",
       "    <tr>\n",
       "      <td>3</td>\n",
       "      <td>Regular</td>\n",
       "      <td>FDX07</td>\n",
       "      <td>182.0950</td>\n",
       "      <td>732.3800</td>\n",
       "      <td>Fruits and Vegetables</td>\n",
       "      <td>0.000000</td>\n",
       "      <td>19.200</td>\n",
       "      <td>1998</td>\n",
       "      <td>OUT010</td>\n",
       "      <td>Tier 3</td>\n",
       "      <td>Small</td>\n",
       "      <td>Grocery Store</td>\n",
       "      <td>train</td>\n",
       "    </tr>\n",
       "    <tr>\n",
       "      <td>8</td>\n",
       "      <td>Regular</td>\n",
       "      <td>FDH17</td>\n",
       "      <td>96.9726</td>\n",
       "      <td>1076.5986</td>\n",
       "      <td>Frozen Foods</td>\n",
       "      <td>0.016687</td>\n",
       "      <td>16.200</td>\n",
       "      <td>2002</td>\n",
       "      <td>OUT045</td>\n",
       "      <td>Tier 2</td>\n",
       "      <td>Small</td>\n",
       "      <td>Supermarket Type1</td>\n",
       "      <td>train</td>\n",
       "    </tr>\n",
       "    <tr>\n",
       "      <td>9</td>\n",
       "      <td>Regular</td>\n",
       "      <td>FDU28</td>\n",
       "      <td>187.8214</td>\n",
       "      <td>4710.5350</td>\n",
       "      <td>Frozen Foods</td>\n",
       "      <td>0.094450</td>\n",
       "      <td>19.200</td>\n",
       "      <td>2007</td>\n",
       "      <td>OUT017</td>\n",
       "      <td>Tier 2</td>\n",
       "      <td>Small</td>\n",
       "      <td>Supermarket Type1</td>\n",
       "      <td>train</td>\n",
       "    </tr>\n",
       "    <tr>\n",
       "      <td>25</td>\n",
       "      <td>Low Fat</td>\n",
       "      <td>NCD06</td>\n",
       "      <td>45.9060</td>\n",
       "      <td>838.9080</td>\n",
       "      <td>Household</td>\n",
       "      <td>0.099887</td>\n",
       "      <td>13.000</td>\n",
       "      <td>2007</td>\n",
       "      <td>OUT017</td>\n",
       "      <td>Tier 2</td>\n",
       "      <td>Small</td>\n",
       "      <td>Supermarket Type1</td>\n",
       "      <td>train</td>\n",
       "    </tr>\n",
       "    <tr>\n",
       "      <td>28</td>\n",
       "      <td>Regular</td>\n",
       "      <td>FDE51</td>\n",
       "      <td>45.5086</td>\n",
       "      <td>178.4344</td>\n",
       "      <td>Dairy</td>\n",
       "      <td>0.161467</td>\n",
       "      <td>5.925</td>\n",
       "      <td>1998</td>\n",
       "      <td>OUT010</td>\n",
       "      <td>Tier 3</td>\n",
       "      <td>Small</td>\n",
       "      <td>Grocery Store</td>\n",
       "      <td>train</td>\n",
       "    </tr>\n",
       "    <tr>\n",
       "      <td>...</td>\n",
       "      <td>...</td>\n",
       "      <td>...</td>\n",
       "      <td>...</td>\n",
       "      <td>...</td>\n",
       "      <td>...</td>\n",
       "      <td>...</td>\n",
       "      <td>...</td>\n",
       "      <td>...</td>\n",
       "      <td>...</td>\n",
       "      <td>...</td>\n",
       "      <td>...</td>\n",
       "      <td>...</td>\n",
       "      <td>...</td>\n",
       "    </tr>\n",
       "    <tr>\n",
       "      <td>14191</td>\n",
       "      <td>Low Fat</td>\n",
       "      <td>FDC44</td>\n",
       "      <td>115.1518</td>\n",
       "      <td>NaN</td>\n",
       "      <td>Fruits and Vegetables</td>\n",
       "      <td>0.288892</td>\n",
       "      <td>15.600</td>\n",
       "      <td>1998</td>\n",
       "      <td>OUT010</td>\n",
       "      <td>Tier 3</td>\n",
       "      <td>Small</td>\n",
       "      <td>Grocery Store</td>\n",
       "      <td>test</td>\n",
       "    </tr>\n",
       "    <tr>\n",
       "      <td>14193</td>\n",
       "      <td>Regular</td>\n",
       "      <td>FDO03</td>\n",
       "      <td>229.4352</td>\n",
       "      <td>NaN</td>\n",
       "      <td>Meat</td>\n",
       "      <td>0.037092</td>\n",
       "      <td>10.395</td>\n",
       "      <td>2007</td>\n",
       "      <td>OUT017</td>\n",
       "      <td>Tier 2</td>\n",
       "      <td>Small</td>\n",
       "      <td>Supermarket Type1</td>\n",
       "      <td>test</td>\n",
       "    </tr>\n",
       "    <tr>\n",
       "      <td>14201</td>\n",
       "      <td>Low Fat</td>\n",
       "      <td>NCO17</td>\n",
       "      <td>118.7440</td>\n",
       "      <td>NaN</td>\n",
       "      <td>Health and Hygiene</td>\n",
       "      <td>0.073529</td>\n",
       "      <td>10.000</td>\n",
       "      <td>2002</td>\n",
       "      <td>OUT045</td>\n",
       "      <td>Tier 2</td>\n",
       "      <td>Small</td>\n",
       "      <td>Supermarket Type1</td>\n",
       "      <td>test</td>\n",
       "    </tr>\n",
       "    <tr>\n",
       "      <td>14202</td>\n",
       "      <td>Regular</td>\n",
       "      <td>FDJ26</td>\n",
       "      <td>214.6218</td>\n",
       "      <td>NaN</td>\n",
       "      <td>Canned</td>\n",
       "      <td>0.000000</td>\n",
       "      <td>15.300</td>\n",
       "      <td>2007</td>\n",
       "      <td>OUT017</td>\n",
       "      <td>Tier 2</td>\n",
       "      <td>Small</td>\n",
       "      <td>Supermarket Type1</td>\n",
       "      <td>test</td>\n",
       "    </tr>\n",
       "    <tr>\n",
       "      <td>14203</td>\n",
       "      <td>Regular</td>\n",
       "      <td>FDU37</td>\n",
       "      <td>79.7960</td>\n",
       "      <td>NaN</td>\n",
       "      <td>Canned</td>\n",
       "      <td>0.104720</td>\n",
       "      <td>9.500</td>\n",
       "      <td>2002</td>\n",
       "      <td>OUT045</td>\n",
       "      <td>Tier 2</td>\n",
       "      <td>Small</td>\n",
       "      <td>Supermarket Type1</td>\n",
       "      <td>test</td>\n",
       "    </tr>\n",
       "  </tbody>\n",
       "</table>\n",
       "<p>4016 rows × 13 columns</p>\n",
       "</div>"
      ],
      "text/plain": [
       "      Item_Fat_Content Item_Identifier  Item_MRP  Item_Outlet_Sales  \\\n",
       "3              Regular           FDX07  182.0950           732.3800   \n",
       "8              Regular           FDH17   96.9726          1076.5986   \n",
       "9              Regular           FDU28  187.8214          4710.5350   \n",
       "25             Low Fat           NCD06   45.9060           838.9080   \n",
       "28             Regular           FDE51   45.5086           178.4344   \n",
       "...                ...             ...       ...                ...   \n",
       "14191          Low Fat           FDC44  115.1518                NaN   \n",
       "14193          Regular           FDO03  229.4352                NaN   \n",
       "14201          Low Fat           NCO17  118.7440                NaN   \n",
       "14202          Regular           FDJ26  214.6218                NaN   \n",
       "14203          Regular           FDU37   79.7960                NaN   \n",
       "\n",
       "                   Item_Type  Item_Visibility  Item_Weight  \\\n",
       "3      Fruits and Vegetables         0.000000       19.200   \n",
       "8               Frozen Foods         0.016687       16.200   \n",
       "9               Frozen Foods         0.094450       19.200   \n",
       "25                 Household         0.099887       13.000   \n",
       "28                     Dairy         0.161467        5.925   \n",
       "...                      ...              ...          ...   \n",
       "14191  Fruits and Vegetables         0.288892       15.600   \n",
       "14193                   Meat         0.037092       10.395   \n",
       "14201     Health and Hygiene         0.073529       10.000   \n",
       "14202                 Canned         0.000000       15.300   \n",
       "14203                 Canned         0.104720        9.500   \n",
       "\n",
       "       Outlet_Establishment_Year Outlet_Identifier Outlet_Location_Type  \\\n",
       "3                           1998            OUT010               Tier 3   \n",
       "8                           2002            OUT045               Tier 2   \n",
       "9                           2007            OUT017               Tier 2   \n",
       "25                          2007            OUT017               Tier 2   \n",
       "28                          1998            OUT010               Tier 3   \n",
       "...                          ...               ...                  ...   \n",
       "14191                       1998            OUT010               Tier 3   \n",
       "14193                       2007            OUT017               Tier 2   \n",
       "14201                       2002            OUT045               Tier 2   \n",
       "14202                       2007            OUT017               Tier 2   \n",
       "14203                       2002            OUT045               Tier 2   \n",
       "\n",
       "      Outlet_Size        Outlet_Type source  \n",
       "3           Small      Grocery Store  train  \n",
       "8           Small  Supermarket Type1  train  \n",
       "9           Small  Supermarket Type1  train  \n",
       "25          Small  Supermarket Type1  train  \n",
       "28          Small      Grocery Store  train  \n",
       "...           ...                ...    ...  \n",
       "14191       Small      Grocery Store   test  \n",
       "14193       Small  Supermarket Type1   test  \n",
       "14201       Small  Supermarket Type1   test  \n",
       "14202       Small  Supermarket Type1   test  \n",
       "14203       Small  Supermarket Type1   test  \n",
       "\n",
       "[4016 rows x 13 columns]"
      ]
     },
     "execution_count": 25,
     "metadata": {},
     "output_type": "execute_result"
    }
   ],
   "source": [
    "data[mbool]"
   ]
  },
  {
   "cell_type": "markdown",
   "metadata": {},
   "source": [
    "## Fix 0 values of Item_Visibility\n",
    "\n",
    "Get the avg item_visibility by item_identifier\n"
   ]
  },
  {
   "cell_type": "code",
   "execution_count": 26,
   "metadata": {},
   "outputs": [
    {
     "data": {
      "text/html": [
       "<div>\n",
       "<style scoped>\n",
       "    .dataframe tbody tr th:only-of-type {\n",
       "        vertical-align: middle;\n",
       "    }\n",
       "\n",
       "    .dataframe tbody tr th {\n",
       "        vertical-align: top;\n",
       "    }\n",
       "\n",
       "    .dataframe thead th {\n",
       "        text-align: right;\n",
       "    }\n",
       "</style>\n",
       "<table border=\"1\" class=\"dataframe\">\n",
       "  <thead>\n",
       "    <tr style=\"text-align: right;\">\n",
       "      <th></th>\n",
       "      <th>Item_Visibility</th>\n",
       "    </tr>\n",
       "    <tr>\n",
       "      <th>Item_Identifier</th>\n",
       "      <th></th>\n",
       "    </tr>\n",
       "  </thead>\n",
       "  <tbody>\n",
       "    <tr>\n",
       "      <td>DRA12</td>\n",
       "      <td>0.034938</td>\n",
       "    </tr>\n",
       "    <tr>\n",
       "      <td>DRA24</td>\n",
       "      <td>0.045646</td>\n",
       "    </tr>\n",
       "    <tr>\n",
       "      <td>DRA59</td>\n",
       "      <td>0.133384</td>\n",
       "    </tr>\n",
       "    <tr>\n",
       "      <td>DRB01</td>\n",
       "      <td>0.079736</td>\n",
       "    </tr>\n",
       "    <tr>\n",
       "      <td>DRB13</td>\n",
       "      <td>0.006799</td>\n",
       "    </tr>\n",
       "  </tbody>\n",
       "</table>\n",
       "</div>"
      ],
      "text/plain": [
       "                 Item_Visibility\n",
       "Item_Identifier                 \n",
       "DRA12                   0.034938\n",
       "DRA24                   0.045646\n",
       "DRA59                   0.133384\n",
       "DRB01                   0.079736\n",
       "DRB13                   0.006799"
      ]
     },
     "execution_count": 26,
     "metadata": {},
     "output_type": "execute_result"
    }
   ],
   "source": [
    "item_vis_avg=data.groupby(['Item_Identifier'])['Item_Visibility'].mean().reset_index()\n",
    "item_vis_avg.set_index(keys='Item_Identifier',inplace=True)\n",
    "item_vis_avg.head()"
   ]
  },
  {
   "cell_type": "code",
   "execution_count": 27,
   "metadata": {},
   "outputs": [
    {
     "data": {
      "text/html": [
       "<div>\n",
       "<style scoped>\n",
       "    .dataframe tbody tr th:only-of-type {\n",
       "        vertical-align: middle;\n",
       "    }\n",
       "\n",
       "    .dataframe tbody tr th {\n",
       "        vertical-align: top;\n",
       "    }\n",
       "\n",
       "    .dataframe thead th {\n",
       "        text-align: right;\n",
       "    }\n",
       "</style>\n",
       "<table border=\"1\" class=\"dataframe\">\n",
       "  <thead>\n",
       "    <tr style=\"text-align: right;\">\n",
       "      <th></th>\n",
       "      <th>Item_Fat_Content</th>\n",
       "      <th>Item_Identifier</th>\n",
       "      <th>Item_MRP</th>\n",
       "      <th>Item_Outlet_Sales</th>\n",
       "      <th>Item_Type</th>\n",
       "      <th>Item_Visibility</th>\n",
       "      <th>Item_Weight</th>\n",
       "      <th>Outlet_Establishment_Year</th>\n",
       "      <th>Outlet_Identifier</th>\n",
       "      <th>Outlet_Location_Type</th>\n",
       "      <th>Outlet_Size</th>\n",
       "      <th>Outlet_Type</th>\n",
       "      <th>source</th>\n",
       "    </tr>\n",
       "  </thead>\n",
       "  <tbody>\n",
       "    <tr>\n",
       "      <td>3</td>\n",
       "      <td>Regular</td>\n",
       "      <td>FDX07</td>\n",
       "      <td>182.0950</td>\n",
       "      <td>732.3800</td>\n",
       "      <td>Fruits and Vegetables</td>\n",
       "      <td>0.0</td>\n",
       "      <td>19.200</td>\n",
       "      <td>1998</td>\n",
       "      <td>OUT010</td>\n",
       "      <td>Tier 3</td>\n",
       "      <td>Small</td>\n",
       "      <td>Grocery Store</td>\n",
       "      <td>train</td>\n",
       "    </tr>\n",
       "    <tr>\n",
       "      <td>4</td>\n",
       "      <td>Low Fat</td>\n",
       "      <td>NCD19</td>\n",
       "      <td>53.8614</td>\n",
       "      <td>994.7052</td>\n",
       "      <td>Household</td>\n",
       "      <td>0.0</td>\n",
       "      <td>8.930</td>\n",
       "      <td>1987</td>\n",
       "      <td>OUT013</td>\n",
       "      <td>Tier 3</td>\n",
       "      <td>High</td>\n",
       "      <td>Supermarket Type1</td>\n",
       "      <td>train</td>\n",
       "    </tr>\n",
       "    <tr>\n",
       "      <td>5</td>\n",
       "      <td>Regular</td>\n",
       "      <td>FDP36</td>\n",
       "      <td>51.4008</td>\n",
       "      <td>556.6088</td>\n",
       "      <td>Baking Goods</td>\n",
       "      <td>0.0</td>\n",
       "      <td>10.395</td>\n",
       "      <td>2009</td>\n",
       "      <td>OUT018</td>\n",
       "      <td>Tier 3</td>\n",
       "      <td>Medium</td>\n",
       "      <td>Supermarket Type2</td>\n",
       "      <td>train</td>\n",
       "    </tr>\n",
       "    <tr>\n",
       "      <td>10</td>\n",
       "      <td>Low Fat</td>\n",
       "      <td>FDY07</td>\n",
       "      <td>45.5402</td>\n",
       "      <td>1516.0266</td>\n",
       "      <td>Fruits and Vegetables</td>\n",
       "      <td>0.0</td>\n",
       "      <td>11.800</td>\n",
       "      <td>1999</td>\n",
       "      <td>OUT049</td>\n",
       "      <td>Tier 1</td>\n",
       "      <td>Medium</td>\n",
       "      <td>Supermarket Type1</td>\n",
       "      <td>train</td>\n",
       "    </tr>\n",
       "    <tr>\n",
       "      <td>32</td>\n",
       "      <td>Low Fat</td>\n",
       "      <td>FDP33</td>\n",
       "      <td>256.6672</td>\n",
       "      <td>3068.0064</td>\n",
       "      <td>Snack Foods</td>\n",
       "      <td>0.0</td>\n",
       "      <td>18.700</td>\n",
       "      <td>2009</td>\n",
       "      <td>OUT018</td>\n",
       "      <td>Tier 3</td>\n",
       "      <td>Medium</td>\n",
       "      <td>Supermarket Type2</td>\n",
       "      <td>train</td>\n",
       "    </tr>\n",
       "    <tr>\n",
       "      <td>...</td>\n",
       "      <td>...</td>\n",
       "      <td>...</td>\n",
       "      <td>...</td>\n",
       "      <td>...</td>\n",
       "      <td>...</td>\n",
       "      <td>...</td>\n",
       "      <td>...</td>\n",
       "      <td>...</td>\n",
       "      <td>...</td>\n",
       "      <td>...</td>\n",
       "      <td>...</td>\n",
       "      <td>...</td>\n",
       "      <td>...</td>\n",
       "    </tr>\n",
       "    <tr>\n",
       "      <td>14166</td>\n",
       "      <td>Regular</td>\n",
       "      <td>FDQ19</td>\n",
       "      <td>244.3512</td>\n",
       "      <td>NaN</td>\n",
       "      <td>Fruits and Vegetables</td>\n",
       "      <td>0.0</td>\n",
       "      <td>7.350</td>\n",
       "      <td>1985</td>\n",
       "      <td>OUT019</td>\n",
       "      <td>Tier 1</td>\n",
       "      <td>Small</td>\n",
       "      <td>Grocery Store</td>\n",
       "      <td>test</td>\n",
       "    </tr>\n",
       "    <tr>\n",
       "      <td>14171</td>\n",
       "      <td>Regular</td>\n",
       "      <td>FDK26</td>\n",
       "      <td>187.5240</td>\n",
       "      <td>NaN</td>\n",
       "      <td>Canned</td>\n",
       "      <td>0.0</td>\n",
       "      <td>5.460</td>\n",
       "      <td>1985</td>\n",
       "      <td>OUT027</td>\n",
       "      <td>Tier 3</td>\n",
       "      <td>Medium</td>\n",
       "      <td>Supermarket Type3</td>\n",
       "      <td>test</td>\n",
       "    </tr>\n",
       "    <tr>\n",
       "      <td>14177</td>\n",
       "      <td>Low Fat</td>\n",
       "      <td>FDQ57</td>\n",
       "      <td>144.5760</td>\n",
       "      <td>NaN</td>\n",
       "      <td>Snack Foods</td>\n",
       "      <td>0.0</td>\n",
       "      <td>7.275</td>\n",
       "      <td>1987</td>\n",
       "      <td>OUT013</td>\n",
       "      <td>Tier 3</td>\n",
       "      <td>High</td>\n",
       "      <td>Supermarket Type1</td>\n",
       "      <td>test</td>\n",
       "    </tr>\n",
       "    <tr>\n",
       "      <td>14184</td>\n",
       "      <td>Low Fat</td>\n",
       "      <td>DRG37</td>\n",
       "      <td>155.7972</td>\n",
       "      <td>NaN</td>\n",
       "      <td>Soft Drinks</td>\n",
       "      <td>0.0</td>\n",
       "      <td>16.200</td>\n",
       "      <td>1985</td>\n",
       "      <td>OUT027</td>\n",
       "      <td>Tier 3</td>\n",
       "      <td>Medium</td>\n",
       "      <td>Supermarket Type3</td>\n",
       "      <td>test</td>\n",
       "    </tr>\n",
       "    <tr>\n",
       "      <td>14202</td>\n",
       "      <td>Regular</td>\n",
       "      <td>FDJ26</td>\n",
       "      <td>214.6218</td>\n",
       "      <td>NaN</td>\n",
       "      <td>Canned</td>\n",
       "      <td>0.0</td>\n",
       "      <td>15.300</td>\n",
       "      <td>2007</td>\n",
       "      <td>OUT017</td>\n",
       "      <td>Tier 2</td>\n",
       "      <td>Small</td>\n",
       "      <td>Supermarket Type1</td>\n",
       "      <td>test</td>\n",
       "    </tr>\n",
       "  </tbody>\n",
       "</table>\n",
       "<p>879 rows × 13 columns</p>\n",
       "</div>"
      ],
      "text/plain": [
       "      Item_Fat_Content Item_Identifier  Item_MRP  Item_Outlet_Sales  \\\n",
       "3              Regular           FDX07  182.0950           732.3800   \n",
       "4              Low Fat           NCD19   53.8614           994.7052   \n",
       "5              Regular           FDP36   51.4008           556.6088   \n",
       "10             Low Fat           FDY07   45.5402          1516.0266   \n",
       "32             Low Fat           FDP33  256.6672          3068.0064   \n",
       "...                ...             ...       ...                ...   \n",
       "14166          Regular           FDQ19  244.3512                NaN   \n",
       "14171          Regular           FDK26  187.5240                NaN   \n",
       "14177          Low Fat           FDQ57  144.5760                NaN   \n",
       "14184          Low Fat           DRG37  155.7972                NaN   \n",
       "14202          Regular           FDJ26  214.6218                NaN   \n",
       "\n",
       "                   Item_Type  Item_Visibility  Item_Weight  \\\n",
       "3      Fruits and Vegetables              0.0       19.200   \n",
       "4                  Household              0.0        8.930   \n",
       "5               Baking Goods              0.0       10.395   \n",
       "10     Fruits and Vegetables              0.0       11.800   \n",
       "32               Snack Foods              0.0       18.700   \n",
       "...                      ...              ...          ...   \n",
       "14166  Fruits and Vegetables              0.0        7.350   \n",
       "14171                 Canned              0.0        5.460   \n",
       "14177            Snack Foods              0.0        7.275   \n",
       "14184            Soft Drinks              0.0       16.200   \n",
       "14202                 Canned              0.0       15.300   \n",
       "\n",
       "       Outlet_Establishment_Year Outlet_Identifier Outlet_Location_Type  \\\n",
       "3                           1998            OUT010               Tier 3   \n",
       "4                           1987            OUT013               Tier 3   \n",
       "5                           2009            OUT018               Tier 3   \n",
       "10                          1999            OUT049               Tier 1   \n",
       "32                          2009            OUT018               Tier 3   \n",
       "...                          ...               ...                  ...   \n",
       "14166                       1985            OUT019               Tier 1   \n",
       "14171                       1985            OUT027               Tier 3   \n",
       "14177                       1987            OUT013               Tier 3   \n",
       "14184                       1985            OUT027               Tier 3   \n",
       "14202                       2007            OUT017               Tier 2   \n",
       "\n",
       "      Outlet_Size        Outlet_Type source  \n",
       "3           Small      Grocery Store  train  \n",
       "4            High  Supermarket Type1  train  \n",
       "5          Medium  Supermarket Type2  train  \n",
       "10         Medium  Supermarket Type1  train  \n",
       "32         Medium  Supermarket Type2  train  \n",
       "...           ...                ...    ...  \n",
       "14166       Small      Grocery Store   test  \n",
       "14171      Medium  Supermarket Type3   test  \n",
       "14177        High  Supermarket Type1   test  \n",
       "14184      Medium  Supermarket Type3   test  \n",
       "14202       Small  Supermarket Type1   test  \n",
       "\n",
       "[879 rows x 13 columns]"
      ]
     },
     "execution_count": 27,
     "metadata": {},
     "output_type": "execute_result"
    }
   ],
   "source": [
    "mbool=(data['Item_Visibility']==0)\n",
    "data[mbool]"
   ]
  },
  {
   "cell_type": "code",
   "execution_count": 28,
   "metadata": {},
   "outputs": [
    {
     "name": "stdout",
     "output_type": "stream",
     "text": [
      "Original zero values: 879\n",
      "Now zero values:  0\n"
     ]
    }
   ],
   "source": [
    "data.loc[mbool,'Item_Visibility']=data.loc[mbool,'Item_Identifier'].apply(lambda x: item_vis_avg.loc[x].values[0])\n",
    "print('Original zero values:',sum(mbool))\n",
    "print('Now zero values: ', sum(data['Item_Visibility']==0))"
   ]
  },
  {
   "cell_type": "code",
   "execution_count": 29,
   "metadata": {},
   "outputs": [
    {
     "data": {
      "text/html": [
       "<div>\n",
       "<style scoped>\n",
       "    .dataframe tbody tr th:only-of-type {\n",
       "        vertical-align: middle;\n",
       "    }\n",
       "\n",
       "    .dataframe tbody tr th {\n",
       "        vertical-align: top;\n",
       "    }\n",
       "\n",
       "    .dataframe thead th {\n",
       "        text-align: right;\n",
       "    }\n",
       "</style>\n",
       "<table border=\"1\" class=\"dataframe\">\n",
       "  <thead>\n",
       "    <tr style=\"text-align: right;\">\n",
       "      <th></th>\n",
       "      <th>Item_Fat_Content</th>\n",
       "      <th>Item_Identifier</th>\n",
       "      <th>Item_MRP</th>\n",
       "      <th>Item_Outlet_Sales</th>\n",
       "      <th>Item_Type</th>\n",
       "      <th>Item_Visibility</th>\n",
       "      <th>Item_Weight</th>\n",
       "      <th>Outlet_Establishment_Year</th>\n",
       "      <th>Outlet_Identifier</th>\n",
       "      <th>Outlet_Location_Type</th>\n",
       "      <th>Outlet_Size</th>\n",
       "      <th>Outlet_Type</th>\n",
       "      <th>source</th>\n",
       "    </tr>\n",
       "  </thead>\n",
       "  <tbody>\n",
       "    <tr>\n",
       "      <td>3</td>\n",
       "      <td>Regular</td>\n",
       "      <td>FDX07</td>\n",
       "      <td>182.0950</td>\n",
       "      <td>732.3800</td>\n",
       "      <td>Fruits and Vegetables</td>\n",
       "      <td>0.017834</td>\n",
       "      <td>19.200</td>\n",
       "      <td>1998</td>\n",
       "      <td>OUT010</td>\n",
       "      <td>Tier 3</td>\n",
       "      <td>Small</td>\n",
       "      <td>Grocery Store</td>\n",
       "      <td>train</td>\n",
       "    </tr>\n",
       "    <tr>\n",
       "      <td>4</td>\n",
       "      <td>Low Fat</td>\n",
       "      <td>NCD19</td>\n",
       "      <td>53.8614</td>\n",
       "      <td>994.7052</td>\n",
       "      <td>Household</td>\n",
       "      <td>0.009780</td>\n",
       "      <td>8.930</td>\n",
       "      <td>1987</td>\n",
       "      <td>OUT013</td>\n",
       "      <td>Tier 3</td>\n",
       "      <td>High</td>\n",
       "      <td>Supermarket Type1</td>\n",
       "      <td>train</td>\n",
       "    </tr>\n",
       "    <tr>\n",
       "      <td>5</td>\n",
       "      <td>Regular</td>\n",
       "      <td>FDP36</td>\n",
       "      <td>51.4008</td>\n",
       "      <td>556.6088</td>\n",
       "      <td>Baking Goods</td>\n",
       "      <td>0.057059</td>\n",
       "      <td>10.395</td>\n",
       "      <td>2009</td>\n",
       "      <td>OUT018</td>\n",
       "      <td>Tier 3</td>\n",
       "      <td>Medium</td>\n",
       "      <td>Supermarket Type2</td>\n",
       "      <td>train</td>\n",
       "    </tr>\n",
       "    <tr>\n",
       "      <td>10</td>\n",
       "      <td>Low Fat</td>\n",
       "      <td>FDY07</td>\n",
       "      <td>45.5402</td>\n",
       "      <td>1516.0266</td>\n",
       "      <td>Fruits and Vegetables</td>\n",
       "      <td>0.040627</td>\n",
       "      <td>11.800</td>\n",
       "      <td>1999</td>\n",
       "      <td>OUT049</td>\n",
       "      <td>Tier 1</td>\n",
       "      <td>Medium</td>\n",
       "      <td>Supermarket Type1</td>\n",
       "      <td>train</td>\n",
       "    </tr>\n",
       "    <tr>\n",
       "      <td>32</td>\n",
       "      <td>Low Fat</td>\n",
       "      <td>FDP33</td>\n",
       "      <td>256.6672</td>\n",
       "      <td>3068.0064</td>\n",
       "      <td>Snack Foods</td>\n",
       "      <td>0.093093</td>\n",
       "      <td>18.700</td>\n",
       "      <td>2009</td>\n",
       "      <td>OUT018</td>\n",
       "      <td>Tier 3</td>\n",
       "      <td>Medium</td>\n",
       "      <td>Supermarket Type2</td>\n",
       "      <td>train</td>\n",
       "    </tr>\n",
       "    <tr>\n",
       "      <td>...</td>\n",
       "      <td>...</td>\n",
       "      <td>...</td>\n",
       "      <td>...</td>\n",
       "      <td>...</td>\n",
       "      <td>...</td>\n",
       "      <td>...</td>\n",
       "      <td>...</td>\n",
       "      <td>...</td>\n",
       "      <td>...</td>\n",
       "      <td>...</td>\n",
       "      <td>...</td>\n",
       "      <td>...</td>\n",
       "      <td>...</td>\n",
       "    </tr>\n",
       "    <tr>\n",
       "      <td>14166</td>\n",
       "      <td>Regular</td>\n",
       "      <td>FDQ19</td>\n",
       "      <td>244.3512</td>\n",
       "      <td>NaN</td>\n",
       "      <td>Fruits and Vegetables</td>\n",
       "      <td>0.013907</td>\n",
       "      <td>7.350</td>\n",
       "      <td>1985</td>\n",
       "      <td>OUT019</td>\n",
       "      <td>Tier 1</td>\n",
       "      <td>Small</td>\n",
       "      <td>Grocery Store</td>\n",
       "      <td>test</td>\n",
       "    </tr>\n",
       "    <tr>\n",
       "      <td>14171</td>\n",
       "      <td>Regular</td>\n",
       "      <td>FDK26</td>\n",
       "      <td>187.5240</td>\n",
       "      <td>NaN</td>\n",
       "      <td>Canned</td>\n",
       "      <td>0.033583</td>\n",
       "      <td>5.460</td>\n",
       "      <td>1985</td>\n",
       "      <td>OUT027</td>\n",
       "      <td>Tier 3</td>\n",
       "      <td>Medium</td>\n",
       "      <td>Supermarket Type3</td>\n",
       "      <td>test</td>\n",
       "    </tr>\n",
       "    <tr>\n",
       "      <td>14177</td>\n",
       "      <td>Low Fat</td>\n",
       "      <td>FDQ57</td>\n",
       "      <td>144.5760</td>\n",
       "      <td>NaN</td>\n",
       "      <td>Snack Foods</td>\n",
       "      <td>0.024077</td>\n",
       "      <td>7.275</td>\n",
       "      <td>1987</td>\n",
       "      <td>OUT013</td>\n",
       "      <td>Tier 3</td>\n",
       "      <td>High</td>\n",
       "      <td>Supermarket Type1</td>\n",
       "      <td>test</td>\n",
       "    </tr>\n",
       "    <tr>\n",
       "      <td>14184</td>\n",
       "      <td>Low Fat</td>\n",
       "      <td>DRG37</td>\n",
       "      <td>155.7972</td>\n",
       "      <td>NaN</td>\n",
       "      <td>Soft Drinks</td>\n",
       "      <td>0.020225</td>\n",
       "      <td>16.200</td>\n",
       "      <td>1985</td>\n",
       "      <td>OUT027</td>\n",
       "      <td>Tier 3</td>\n",
       "      <td>Medium</td>\n",
       "      <td>Supermarket Type3</td>\n",
       "      <td>test</td>\n",
       "    </tr>\n",
       "    <tr>\n",
       "      <td>14202</td>\n",
       "      <td>Regular</td>\n",
       "      <td>FDJ26</td>\n",
       "      <td>214.6218</td>\n",
       "      <td>NaN</td>\n",
       "      <td>Canned</td>\n",
       "      <td>0.088380</td>\n",
       "      <td>15.300</td>\n",
       "      <td>2007</td>\n",
       "      <td>OUT017</td>\n",
       "      <td>Tier 2</td>\n",
       "      <td>Small</td>\n",
       "      <td>Supermarket Type1</td>\n",
       "      <td>test</td>\n",
       "    </tr>\n",
       "  </tbody>\n",
       "</table>\n",
       "<p>879 rows × 13 columns</p>\n",
       "</div>"
      ],
      "text/plain": [
       "      Item_Fat_Content Item_Identifier  Item_MRP  Item_Outlet_Sales  \\\n",
       "3              Regular           FDX07  182.0950           732.3800   \n",
       "4              Low Fat           NCD19   53.8614           994.7052   \n",
       "5              Regular           FDP36   51.4008           556.6088   \n",
       "10             Low Fat           FDY07   45.5402          1516.0266   \n",
       "32             Low Fat           FDP33  256.6672          3068.0064   \n",
       "...                ...             ...       ...                ...   \n",
       "14166          Regular           FDQ19  244.3512                NaN   \n",
       "14171          Regular           FDK26  187.5240                NaN   \n",
       "14177          Low Fat           FDQ57  144.5760                NaN   \n",
       "14184          Low Fat           DRG37  155.7972                NaN   \n",
       "14202          Regular           FDJ26  214.6218                NaN   \n",
       "\n",
       "                   Item_Type  Item_Visibility  Item_Weight  \\\n",
       "3      Fruits and Vegetables         0.017834       19.200   \n",
       "4                  Household         0.009780        8.930   \n",
       "5               Baking Goods         0.057059       10.395   \n",
       "10     Fruits and Vegetables         0.040627       11.800   \n",
       "32               Snack Foods         0.093093       18.700   \n",
       "...                      ...              ...          ...   \n",
       "14166  Fruits and Vegetables         0.013907        7.350   \n",
       "14171                 Canned         0.033583        5.460   \n",
       "14177            Snack Foods         0.024077        7.275   \n",
       "14184            Soft Drinks         0.020225       16.200   \n",
       "14202                 Canned         0.088380       15.300   \n",
       "\n",
       "       Outlet_Establishment_Year Outlet_Identifier Outlet_Location_Type  \\\n",
       "3                           1998            OUT010               Tier 3   \n",
       "4                           1987            OUT013               Tier 3   \n",
       "5                           2009            OUT018               Tier 3   \n",
       "10                          1999            OUT049               Tier 1   \n",
       "32                          2009            OUT018               Tier 3   \n",
       "...                          ...               ...                  ...   \n",
       "14166                       1985            OUT019               Tier 1   \n",
       "14171                       1985            OUT027               Tier 3   \n",
       "14177                       1987            OUT013               Tier 3   \n",
       "14184                       1985            OUT027               Tier 3   \n",
       "14202                       2007            OUT017               Tier 2   \n",
       "\n",
       "      Outlet_Size        Outlet_Type source  \n",
       "3           Small      Grocery Store  train  \n",
       "4            High  Supermarket Type1  train  \n",
       "5          Medium  Supermarket Type2  train  \n",
       "10         Medium  Supermarket Type1  train  \n",
       "32         Medium  Supermarket Type2  train  \n",
       "...           ...                ...    ...  \n",
       "14166       Small      Grocery Store   test  \n",
       "14171      Medium  Supermarket Type3   test  \n",
       "14177        High  Supermarket Type1   test  \n",
       "14184      Medium  Supermarket Type3   test  \n",
       "14202       Small  Supermarket Type1   test  \n",
       "\n",
       "[879 rows x 13 columns]"
      ]
     },
     "execution_count": 29,
     "metadata": {},
     "output_type": "execute_result"
    }
   ],
   "source": [
    "data[mbool]"
   ]
  },
  {
   "cell_type": "markdown",
   "metadata": {},
   "source": [
    "# Step 4: Feature Engineering"
   ]
  },
  {
   "cell_type": "markdown",
   "metadata": {},
   "source": [
    "# 1. Consider combining Outlet_Type"
   ]
  },
  {
   "cell_type": "code",
   "execution_count": 30,
   "metadata": {},
   "outputs": [
    {
     "data": {
      "text/plain": [
       "Outlet_Type\n",
       "Grocery Store         339.828500\n",
       "Supermarket Type1    2316.181148\n",
       "Supermarket Type2    1995.498739\n",
       "Supermarket Type3    3694.038558\n",
       "Name: Item_Outlet_Sales, dtype: float64"
      ]
     },
     "execution_count": 30,
     "metadata": {},
     "output_type": "execute_result"
    }
   ],
   "source": [
    "data.groupby(['Outlet_Type'])['Item_Outlet_Sales'].mean()"
   ]
  },
  {
   "cell_type": "code",
   "execution_count": 31,
   "metadata": {},
   "outputs": [
    {
     "data": {
      "text/plain": [
       "Outlet_Type        Outlet_Location_Type\n",
       "Grocery Store      Tier 1                   340.329723\n",
       "                   Tier 3                   339.351662\n",
       "Supermarket Type1  Tier 1                  2313.099451\n",
       "                   Tier 2                  2323.990559\n",
       "                   Tier 3                  2298.995256\n",
       "Supermarket Type2  Tier 3                  1995.498739\n",
       "Supermarket Type3  Tier 3                  3694.038558\n",
       "Name: Item_Outlet_Sales, dtype: float64"
      ]
     },
     "execution_count": 31,
     "metadata": {},
     "output_type": "execute_result"
    }
   ],
   "source": [
    "data.groupby(['Outlet_Type','Outlet_Location_Type'])['Item_Outlet_Sales'].mean()"
   ]
  },
  {
   "cell_type": "markdown",
   "metadata": {},
   "source": [
    "There is significant difference between sales of Type 2 & Type3 Market hence will not be combining them"
   ]
  },
  {
   "cell_type": "markdown",
   "metadata": {},
   "source": [
    "## 2. Determine another Item Visibility Variable with Means Ratio\n",
    "\n",
    "We created hypothesis that product with higher visibility  are likely to sell more. But along with comparing products on absolute  terms, we should also look at the visibility of that product in particular store compared to visibility of that product in all other stores. We can use item_vis_avg computed earlier to calculate the mean ratio"
   ]
  },
  {
   "cell_type": "code",
   "execution_count": 32,
   "metadata": {},
   "outputs": [],
   "source": [
    "data['Item_Visibility_Mean_Ratio'] = data.apply(lambda x: x['Item_Visibility']/item_vis_avg.loc[x['Item_Identifier']],axis=1)"
   ]
  },
  {
   "cell_type": "code",
   "execution_count": 33,
   "metadata": {
    "scrolled": true
   },
   "outputs": [
    {
     "data": {
      "text/plain": [
       "count    14204.000000\n",
       "mean         1.061884\n",
       "std          0.235907\n",
       "min          0.844563\n",
       "25%          0.925131\n",
       "50%          0.999070\n",
       "75%          1.042007\n",
       "max          3.010094\n",
       "Name: Item_Visibility_Mean_Ratio, dtype: float64"
      ]
     },
     "execution_count": 33,
     "metadata": {},
     "output_type": "execute_result"
    }
   ],
   "source": [
    "data['Item_Visibility_Mean_Ratio'].describe()"
   ]
  },
  {
   "cell_type": "markdown",
   "metadata": {},
   "source": [
    "## 3. Create a broad category of Item"
   ]
  },
  {
   "cell_type": "code",
   "execution_count": 34,
   "metadata": {},
   "outputs": [
    {
     "data": {
      "text/plain": [
       "Food              10201\n",
       "Non-Consumable     2686\n",
       "Drinks             1317\n",
       "Name: Item_Category, dtype: int64"
      ]
     },
     "execution_count": 34,
     "metadata": {},
     "output_type": "execute_result"
    }
   ],
   "source": [
    "data['Item_Category']= data['Item_Identifier'].apply(lambda x: x[0:2])\n",
    "data['Item_Category']=data['Item_Category'].map({'FD':'Food','NC':'Non-Consumable','DR':'Drinks'})\n",
    "data['Item_Category'].value_counts()"
   ]
  },
  {
   "cell_type": "code",
   "execution_count": 35,
   "metadata": {},
   "outputs": [
    {
     "data": {
      "text/html": [
       "<div>\n",
       "<style scoped>\n",
       "    .dataframe tbody tr th:only-of-type {\n",
       "        vertical-align: middle;\n",
       "    }\n",
       "\n",
       "    .dataframe tbody tr th {\n",
       "        vertical-align: top;\n",
       "    }\n",
       "\n",
       "    .dataframe thead th {\n",
       "        text-align: right;\n",
       "    }\n",
       "</style>\n",
       "<table border=\"1\" class=\"dataframe\">\n",
       "  <thead>\n",
       "    <tr style=\"text-align: right;\">\n",
       "      <th></th>\n",
       "      <th>Item_Category</th>\n",
       "      <th>Item_Type</th>\n",
       "      <th>mean</th>\n",
       "      <th>count</th>\n",
       "    </tr>\n",
       "  </thead>\n",
       "  <tbody>\n",
       "    <tr>\n",
       "      <td>15</td>\n",
       "      <td>Non-Consumable</td>\n",
       "      <td>Household</td>\n",
       "      <td>2258.784300</td>\n",
       "      <td>910</td>\n",
       "    </tr>\n",
       "    <tr>\n",
       "      <td>14</td>\n",
       "      <td>Non-Consumable</td>\n",
       "      <td>Health and Hygiene</td>\n",
       "      <td>2010.000265</td>\n",
       "      <td>520</td>\n",
       "    </tr>\n",
       "    <tr>\n",
       "      <td>16</td>\n",
       "      <td>Non-Consumable</td>\n",
       "      <td>Others</td>\n",
       "      <td>1926.139702</td>\n",
       "      <td>169</td>\n",
       "    </tr>\n",
       "    <tr>\n",
       "      <td>9</td>\n",
       "      <td>Food</td>\n",
       "      <td>Fruits and Vegetables</td>\n",
       "      <td>2289.009592</td>\n",
       "      <td>1232</td>\n",
       "    </tr>\n",
       "    <tr>\n",
       "      <td>12</td>\n",
       "      <td>Food</td>\n",
       "      <td>Snack Foods</td>\n",
       "      <td>2277.321739</td>\n",
       "      <td>1200</td>\n",
       "    </tr>\n",
       "    <tr>\n",
       "      <td>8</td>\n",
       "      <td>Food</td>\n",
       "      <td>Frozen Foods</td>\n",
       "      <td>2132.867744</td>\n",
       "      <td>856</td>\n",
       "    </tr>\n",
       "    <tr>\n",
       "      <td>6</td>\n",
       "      <td>Food</td>\n",
       "      <td>Canned</td>\n",
       "      <td>2225.194904</td>\n",
       "      <td>649</td>\n",
       "    </tr>\n",
       "    <tr>\n",
       "      <td>3</td>\n",
       "      <td>Food</td>\n",
       "      <td>Baking Goods</td>\n",
       "      <td>1952.971207</td>\n",
       "      <td>648</td>\n",
       "    </tr>\n",
       "    <tr>\n",
       "      <td>7</td>\n",
       "      <td>Food</td>\n",
       "      <td>Dairy</td>\n",
       "      <td>2356.855838</td>\n",
       "      <td>542</td>\n",
       "    </tr>\n",
       "    <tr>\n",
       "      <td>10</td>\n",
       "      <td>Food</td>\n",
       "      <td>Meat</td>\n",
       "      <td>2158.977911</td>\n",
       "      <td>425</td>\n",
       "    </tr>\n",
       "    <tr>\n",
       "      <td>4</td>\n",
       "      <td>Food</td>\n",
       "      <td>Breads</td>\n",
       "      <td>2204.132226</td>\n",
       "      <td>251</td>\n",
       "    </tr>\n",
       "    <tr>\n",
       "      <td>13</td>\n",
       "      <td>Food</td>\n",
       "      <td>Starchy Foods</td>\n",
       "      <td>2374.332773</td>\n",
       "      <td>148</td>\n",
       "    </tr>\n",
       "    <tr>\n",
       "      <td>5</td>\n",
       "      <td>Food</td>\n",
       "      <td>Breakfast</td>\n",
       "      <td>2111.808651</td>\n",
       "      <td>110</td>\n",
       "    </tr>\n",
       "    <tr>\n",
       "      <td>11</td>\n",
       "      <td>Food</td>\n",
       "      <td>Seafood</td>\n",
       "      <td>2326.065928</td>\n",
       "      <td>64</td>\n",
       "    </tr>\n",
       "    <tr>\n",
       "      <td>2</td>\n",
       "      <td>Drinks</td>\n",
       "      <td>Soft Drinks</td>\n",
       "      <td>2006.511735</td>\n",
       "      <td>445</td>\n",
       "    </tr>\n",
       "    <tr>\n",
       "      <td>1</td>\n",
       "      <td>Drinks</td>\n",
       "      <td>Hard Drinks</td>\n",
       "      <td>2139.221622</td>\n",
       "      <td>214</td>\n",
       "    </tr>\n",
       "    <tr>\n",
       "      <td>0</td>\n",
       "      <td>Drinks</td>\n",
       "      <td>Dairy</td>\n",
       "      <td>1751.272763</td>\n",
       "      <td>140</td>\n",
       "    </tr>\n",
       "  </tbody>\n",
       "</table>\n",
       "</div>"
      ],
      "text/plain": [
       "     Item_Category              Item_Type         mean  count\n",
       "15  Non-Consumable              Household  2258.784300    910\n",
       "14  Non-Consumable     Health and Hygiene  2010.000265    520\n",
       "16  Non-Consumable                 Others  1926.139702    169\n",
       "9             Food  Fruits and Vegetables  2289.009592   1232\n",
       "12            Food            Snack Foods  2277.321739   1200\n",
       "8             Food           Frozen Foods  2132.867744    856\n",
       "6             Food                 Canned  2225.194904    649\n",
       "3             Food           Baking Goods  1952.971207    648\n",
       "7             Food                  Dairy  2356.855838    542\n",
       "10            Food                   Meat  2158.977911    425\n",
       "4             Food                 Breads  2204.132226    251\n",
       "13            Food          Starchy Foods  2374.332773    148\n",
       "5             Food              Breakfast  2111.808651    110\n",
       "11            Food                Seafood  2326.065928     64\n",
       "2           Drinks            Soft Drinks  2006.511735    445\n",
       "1           Drinks            Hard Drinks  2139.221622    214\n",
       "0           Drinks                  Dairy  1751.272763    140"
      ]
     },
     "execution_count": 35,
     "metadata": {},
     "output_type": "execute_result"
    }
   ],
   "source": [
    "data.groupby(['Item_Category','Item_Type'])['Item_Outlet_Sales'].agg(['mean','count']).reset_index().sort_values(by=['Item_Category','count'],ascending=False)"
   ]
  },
  {
   "cell_type": "markdown",
   "metadata": {},
   "source": [
    "For now I will not combine Item_Type based on mean selling price and Item Category. \n",
    "In Non Consumable Others, Food Baking Goods and in Drinks Dairy have comparitively lower avg price but the count of these item type is low."
   ]
  },
  {
   "cell_type": "markdown",
   "metadata": {},
   "source": [
    "## 4. Calculate years of operation of store from Outlet_Establishment_Year"
   ]
  },
  {
   "cell_type": "code",
   "execution_count": 36,
   "metadata": {},
   "outputs": [
    {
     "data": {
      "text/plain": [
       "count    14204.000000\n",
       "mean        15.169319\n",
       "std          8.371664\n",
       "min          4.000000\n",
       "25%          9.000000\n",
       "50%         14.000000\n",
       "75%         26.000000\n",
       "max         28.000000\n",
       "Name: Outlet_Years, dtype: float64"
      ]
     },
     "execution_count": 36,
     "metadata": {},
     "output_type": "execute_result"
    }
   ],
   "source": [
    "# As the sales data was collected in 2013, I am using 2013 to calculate years\n",
    "data['Outlet_Years']=2013-data['Outlet_Establishment_Year']\n",
    "data['Outlet_Years'].describe()"
   ]
  },
  {
   "cell_type": "markdown",
   "metadata": {},
   "source": [
    "## 5. Fix the Item_Fat_Content values"
   ]
  },
  {
   "cell_type": "code",
   "execution_count": 37,
   "metadata": {},
   "outputs": [
    {
     "data": {
      "text/plain": [
       "Low Fat    8485\n",
       "Regular    4824\n",
       "LF          522\n",
       "reg         195\n",
       "low fat     178\n",
       "Name: Item_Fat_Content, dtype: int64"
      ]
     },
     "execution_count": 37,
     "metadata": {},
     "output_type": "execute_result"
    }
   ],
   "source": [
    "data['Item_Fat_Content'].value_counts()"
   ]
  },
  {
   "cell_type": "code",
   "execution_count": 38,
   "metadata": {},
   "outputs": [
    {
     "data": {
      "text/plain": [
       "Low Fat    9185\n",
       "Regular    5019\n",
       "Name: Item_Fat_Content, dtype: int64"
      ]
     },
     "execution_count": 38,
     "metadata": {},
     "output_type": "execute_result"
    }
   ],
   "source": [
    "data['Item_Fat_Content']=data['Item_Fat_Content'].replace({'LF':'Low Fat','reg':'Regular','low fat':'Low Fat'})\n",
    "data['Item_Fat_Content'].value_counts()"
   ]
  },
  {
   "cell_type": "code",
   "execution_count": 39,
   "metadata": {},
   "outputs": [],
   "source": [
    "# Update the Fat Content of Non Consumable to Non-Edible\n",
    "\n",
    "data.loc[data['Item_Category']=='Non-Consumable','Item_Fat_Content']='Non-Edible'"
   ]
  },
  {
   "cell_type": "code",
   "execution_count": 40,
   "metadata": {},
   "outputs": [
    {
     "data": {
      "text/plain": [
       "Low Fat       6499\n",
       "Regular       5019\n",
       "Non-Edible    2686\n",
       "Name: Item_Fat_Content, dtype: int64"
      ]
     },
     "execution_count": 40,
     "metadata": {},
     "output_type": "execute_result"
    }
   ],
   "source": [
    "data['Item_Fat_Content'].value_counts()"
   ]
  },
  {
   "cell_type": "markdown",
   "metadata": {},
   "source": [
    "## 6. Numerical and One hot Coding for Categorical Values"
   ]
  },
  {
   "cell_type": "code",
   "execution_count": 41,
   "metadata": {},
   "outputs": [
    {
     "data": {
      "text/html": [
       "<div>\n",
       "<style scoped>\n",
       "    .dataframe tbody tr th:only-of-type {\n",
       "        vertical-align: middle;\n",
       "    }\n",
       "\n",
       "    .dataframe tbody tr th {\n",
       "        vertical-align: top;\n",
       "    }\n",
       "\n",
       "    .dataframe thead th {\n",
       "        text-align: right;\n",
       "    }\n",
       "</style>\n",
       "<table border=\"1\" class=\"dataframe\">\n",
       "  <thead>\n",
       "    <tr style=\"text-align: right;\">\n",
       "      <th></th>\n",
       "      <th>Item_Fat_Content</th>\n",
       "      <th>Item_Identifier</th>\n",
       "      <th>Item_MRP</th>\n",
       "      <th>Item_Outlet_Sales</th>\n",
       "      <th>Item_Type</th>\n",
       "      <th>Item_Visibility</th>\n",
       "      <th>Item_Weight</th>\n",
       "      <th>Outlet_Establishment_Year</th>\n",
       "      <th>Outlet_Identifier</th>\n",
       "      <th>Outlet_Location_Type</th>\n",
       "      <th>Outlet_Size</th>\n",
       "      <th>Outlet_Type</th>\n",
       "      <th>source</th>\n",
       "      <th>Item_Visibility_Mean_Ratio</th>\n",
       "      <th>Item_Category</th>\n",
       "      <th>Outlet_Years</th>\n",
       "    </tr>\n",
       "  </thead>\n",
       "  <tbody>\n",
       "    <tr>\n",
       "      <td>0</td>\n",
       "      <td>Low Fat</td>\n",
       "      <td>FDA15</td>\n",
       "      <td>249.8092</td>\n",
       "      <td>3735.1380</td>\n",
       "      <td>Dairy</td>\n",
       "      <td>0.016047</td>\n",
       "      <td>9.30</td>\n",
       "      <td>1999</td>\n",
       "      <td>OUT049</td>\n",
       "      <td>Tier 1</td>\n",
       "      <td>Medium</td>\n",
       "      <td>Supermarket Type1</td>\n",
       "      <td>train</td>\n",
       "      <td>0.931078</td>\n",
       "      <td>Food</td>\n",
       "      <td>14</td>\n",
       "    </tr>\n",
       "    <tr>\n",
       "      <td>1</td>\n",
       "      <td>Regular</td>\n",
       "      <td>DRC01</td>\n",
       "      <td>48.2692</td>\n",
       "      <td>443.4228</td>\n",
       "      <td>Soft Drinks</td>\n",
       "      <td>0.019278</td>\n",
       "      <td>5.92</td>\n",
       "      <td>2009</td>\n",
       "      <td>OUT018</td>\n",
       "      <td>Tier 3</td>\n",
       "      <td>Medium</td>\n",
       "      <td>Supermarket Type2</td>\n",
       "      <td>train</td>\n",
       "      <td>0.933420</td>\n",
       "      <td>Drinks</td>\n",
       "      <td>4</td>\n",
       "    </tr>\n",
       "    <tr>\n",
       "      <td>2</td>\n",
       "      <td>Low Fat</td>\n",
       "      <td>FDN15</td>\n",
       "      <td>141.6180</td>\n",
       "      <td>2097.2700</td>\n",
       "      <td>Meat</td>\n",
       "      <td>0.016760</td>\n",
       "      <td>17.50</td>\n",
       "      <td>1999</td>\n",
       "      <td>OUT049</td>\n",
       "      <td>Tier 1</td>\n",
       "      <td>Medium</td>\n",
       "      <td>Supermarket Type1</td>\n",
       "      <td>train</td>\n",
       "      <td>0.960069</td>\n",
       "      <td>Food</td>\n",
       "      <td>14</td>\n",
       "    </tr>\n",
       "    <tr>\n",
       "      <td>3</td>\n",
       "      <td>Regular</td>\n",
       "      <td>FDX07</td>\n",
       "      <td>182.0950</td>\n",
       "      <td>732.3800</td>\n",
       "      <td>Fruits and Vegetables</td>\n",
       "      <td>0.017834</td>\n",
       "      <td>19.20</td>\n",
       "      <td>1998</td>\n",
       "      <td>OUT010</td>\n",
       "      <td>Tier 3</td>\n",
       "      <td>Small</td>\n",
       "      <td>Grocery Store</td>\n",
       "      <td>train</td>\n",
       "      <td>1.000000</td>\n",
       "      <td>Food</td>\n",
       "      <td>15</td>\n",
       "    </tr>\n",
       "    <tr>\n",
       "      <td>4</td>\n",
       "      <td>Non-Edible</td>\n",
       "      <td>NCD19</td>\n",
       "      <td>53.8614</td>\n",
       "      <td>994.7052</td>\n",
       "      <td>Household</td>\n",
       "      <td>0.009780</td>\n",
       "      <td>8.93</td>\n",
       "      <td>1987</td>\n",
       "      <td>OUT013</td>\n",
       "      <td>Tier 3</td>\n",
       "      <td>High</td>\n",
       "      <td>Supermarket Type1</td>\n",
       "      <td>train</td>\n",
       "      <td>1.000000</td>\n",
       "      <td>Non-Consumable</td>\n",
       "      <td>26</td>\n",
       "    </tr>\n",
       "  </tbody>\n",
       "</table>\n",
       "</div>"
      ],
      "text/plain": [
       "  Item_Fat_Content Item_Identifier  Item_MRP  Item_Outlet_Sales  \\\n",
       "0          Low Fat           FDA15  249.8092          3735.1380   \n",
       "1          Regular           DRC01   48.2692           443.4228   \n",
       "2          Low Fat           FDN15  141.6180          2097.2700   \n",
       "3          Regular           FDX07  182.0950           732.3800   \n",
       "4       Non-Edible           NCD19   53.8614           994.7052   \n",
       "\n",
       "               Item_Type  Item_Visibility  Item_Weight  \\\n",
       "0                  Dairy         0.016047         9.30   \n",
       "1            Soft Drinks         0.019278         5.92   \n",
       "2                   Meat         0.016760        17.50   \n",
       "3  Fruits and Vegetables         0.017834        19.20   \n",
       "4              Household         0.009780         8.93   \n",
       "\n",
       "   Outlet_Establishment_Year Outlet_Identifier Outlet_Location_Type  \\\n",
       "0                       1999            OUT049               Tier 1   \n",
       "1                       2009            OUT018               Tier 3   \n",
       "2                       1999            OUT049               Tier 1   \n",
       "3                       1998            OUT010               Tier 3   \n",
       "4                       1987            OUT013               Tier 3   \n",
       "\n",
       "  Outlet_Size        Outlet_Type source  Item_Visibility_Mean_Ratio  \\\n",
       "0      Medium  Supermarket Type1  train                    0.931078   \n",
       "1      Medium  Supermarket Type2  train                    0.933420   \n",
       "2      Medium  Supermarket Type1  train                    0.960069   \n",
       "3       Small      Grocery Store  train                    1.000000   \n",
       "4        High  Supermarket Type1  train                    1.000000   \n",
       "\n",
       "    Item_Category  Outlet_Years  \n",
       "0            Food            14  \n",
       "1          Drinks             4  \n",
       "2            Food            14  \n",
       "3            Food            15  \n",
       "4  Non-Consumable            26  "
      ]
     },
     "execution_count": 41,
     "metadata": {},
     "output_type": "execute_result"
    }
   ],
   "source": [
    "data.head()"
   ]
  },
  {
   "cell_type": "code",
   "execution_count": 42,
   "metadata": {},
   "outputs": [],
   "source": [
    "from sklearn.preprocessing import LabelEncoder\n",
    "le=LabelEncoder()\n",
    "\n",
    "data['Outlet']=le.fit_transform(data['Outlet_Identifier'])\n",
    "\n",
    "data.head()\n",
    "\n",
    "var_mod=['Item_Fat_Content','Outlet_Location_Type','Outlet_Size','Outlet_Type','Item_Category','Outlet']\n",
    "\n",
    "le=LabelEncoder()\n",
    "for i in var_mod:\n",
    "    data[i]=le.fit_transform(data[i])"
   ]
  },
  {
   "cell_type": "code",
   "execution_count": 43,
   "metadata": {},
   "outputs": [],
   "source": [
    "#Get Dummies\n",
    "\n",
    "data=pd.get_dummies(data,columns=['Item_Fat_Content','Outlet_Location_Type','Outlet_Size','Outlet_Type','Item_Category','Outlet'])"
   ]
  },
  {
   "cell_type": "code",
   "execution_count": 44,
   "metadata": {},
   "outputs": [
    {
     "data": {
      "text/plain": [
       "Item_Identifier                object\n",
       "Item_MRP                      float64\n",
       "Item_Outlet_Sales             float64\n",
       "Item_Type                      object\n",
       "Item_Visibility               float64\n",
       "Item_Weight                   float64\n",
       "Outlet_Establishment_Year       int64\n",
       "Outlet_Identifier              object\n",
       "source                         object\n",
       "Item_Visibility_Mean_Ratio    float64\n",
       "Outlet_Years                    int64\n",
       "Item_Fat_Content_0              uint8\n",
       "Item_Fat_Content_1              uint8\n",
       "Item_Fat_Content_2              uint8\n",
       "Outlet_Location_Type_0          uint8\n",
       "Outlet_Location_Type_1          uint8\n",
       "Outlet_Location_Type_2          uint8\n",
       "Outlet_Size_0                   uint8\n",
       "Outlet_Size_1                   uint8\n",
       "Outlet_Size_2                   uint8\n",
       "Outlet_Type_0                   uint8\n",
       "Outlet_Type_1                   uint8\n",
       "Outlet_Type_2                   uint8\n",
       "Outlet_Type_3                   uint8\n",
       "Item_Category_0                 uint8\n",
       "Item_Category_1                 uint8\n",
       "Item_Category_2                 uint8\n",
       "Outlet_0                        uint8\n",
       "Outlet_1                        uint8\n",
       "Outlet_2                        uint8\n",
       "Outlet_3                        uint8\n",
       "Outlet_4                        uint8\n",
       "Outlet_5                        uint8\n",
       "Outlet_6                        uint8\n",
       "Outlet_7                        uint8\n",
       "Outlet_8                        uint8\n",
       "Outlet_9                        uint8\n",
       "dtype: object"
      ]
     },
     "execution_count": 44,
     "metadata": {},
     "output_type": "execute_result"
    }
   ],
   "source": [
    "data.dtypes"
   ]
  },
  {
   "cell_type": "code",
   "execution_count": 45,
   "metadata": {},
   "outputs": [
    {
     "data": {
      "text/html": [
       "<div>\n",
       "<style scoped>\n",
       "    .dataframe tbody tr th:only-of-type {\n",
       "        vertical-align: middle;\n",
       "    }\n",
       "\n",
       "    .dataframe tbody tr th {\n",
       "        vertical-align: top;\n",
       "    }\n",
       "\n",
       "    .dataframe thead th {\n",
       "        text-align: right;\n",
       "    }\n",
       "</style>\n",
       "<table border=\"1\" class=\"dataframe\">\n",
       "  <thead>\n",
       "    <tr style=\"text-align: right;\">\n",
       "      <th></th>\n",
       "      <th>Item_Fat_Content_0</th>\n",
       "      <th>Item_Fat_Content_1</th>\n",
       "      <th>Item_Fat_Content_2</th>\n",
       "    </tr>\n",
       "  </thead>\n",
       "  <tbody>\n",
       "    <tr>\n",
       "      <td>0</td>\n",
       "      <td>1</td>\n",
       "      <td>0</td>\n",
       "      <td>0</td>\n",
       "    </tr>\n",
       "    <tr>\n",
       "      <td>1</td>\n",
       "      <td>0</td>\n",
       "      <td>0</td>\n",
       "      <td>1</td>\n",
       "    </tr>\n",
       "    <tr>\n",
       "      <td>2</td>\n",
       "      <td>1</td>\n",
       "      <td>0</td>\n",
       "      <td>0</td>\n",
       "    </tr>\n",
       "    <tr>\n",
       "      <td>3</td>\n",
       "      <td>0</td>\n",
       "      <td>0</td>\n",
       "      <td>1</td>\n",
       "    </tr>\n",
       "    <tr>\n",
       "      <td>4</td>\n",
       "      <td>0</td>\n",
       "      <td>1</td>\n",
       "      <td>0</td>\n",
       "    </tr>\n",
       "  </tbody>\n",
       "</table>\n",
       "</div>"
      ],
      "text/plain": [
       "   Item_Fat_Content_0  Item_Fat_Content_1  Item_Fat_Content_2\n",
       "0                   1                   0                   0\n",
       "1                   0                   0                   1\n",
       "2                   1                   0                   0\n",
       "3                   0                   0                   1\n",
       "4                   0                   1                   0"
      ]
     },
     "execution_count": 45,
     "metadata": {},
     "output_type": "execute_result"
    }
   ],
   "source": [
    "data[['Item_Fat_Content_0','Item_Fat_Content_1','Item_Fat_Content_2']].head()"
   ]
  },
  {
   "cell_type": "markdown",
   "metadata": {},
   "source": [
    "## 7. Export Final Data and Separate Train & Test Data"
   ]
  },
  {
   "cell_type": "code",
   "execution_count": 46,
   "metadata": {},
   "outputs": [],
   "source": [
    "# Drop the columns which have been converted to  different types\n",
    "\n",
    "data.drop(['Item_Type','Outlet_Establishment_Year'],axis=1,inplace=True)"
   ]
  },
  {
   "cell_type": "code",
   "execution_count": 47,
   "metadata": {},
   "outputs": [
    {
     "name": "stderr",
     "output_type": "stream",
     "text": [
      "C:\\Users\\rajin\\AppData\\Roaming\\Python\\Python37\\site-packages\\pandas\\core\\frame.py:4102: SettingWithCopyWarning: \n",
      "A value is trying to be set on a copy of a slice from a DataFrame\n",
      "\n",
      "See the caveats in the documentation: http://pandas.pydata.org/pandas-docs/stable/user_guide/indexing.html#returning-a-view-versus-a-copy\n",
      "  errors=errors,\n"
     ]
    }
   ],
   "source": [
    "train = data.loc[data['source']=='train']\n",
    "test = data.loc[data['source']=='test']\n",
    "\n",
    "train.drop(['source'],axis=1,inplace=True)\n",
    "test.drop(['Item_Outlet_Sales','source'],axis=1,inplace=True)\n",
    "\n",
    "#Export Files \n",
    "\n",
    "train.to_csv('../data/train_modified.csv',index=False)\n",
    "test.to_csv('../data/test_modified.csv',index=False)\n"
   ]
  },
  {
   "cell_type": "code",
   "execution_count": 48,
   "metadata": {},
   "outputs": [
    {
     "data": {
      "text/html": [
       "<div>\n",
       "<style scoped>\n",
       "    .dataframe tbody tr th:only-of-type {\n",
       "        vertical-align: middle;\n",
       "    }\n",
       "\n",
       "    .dataframe tbody tr th {\n",
       "        vertical-align: top;\n",
       "    }\n",
       "\n",
       "    .dataframe thead th {\n",
       "        text-align: right;\n",
       "    }\n",
       "</style>\n",
       "<table border=\"1\" class=\"dataframe\">\n",
       "  <thead>\n",
       "    <tr style=\"text-align: right;\">\n",
       "      <th></th>\n",
       "      <th>Item_Identifier</th>\n",
       "      <th>Item_MRP</th>\n",
       "      <th>Item_Outlet_Sales</th>\n",
       "      <th>Item_Visibility</th>\n",
       "      <th>Item_Weight</th>\n",
       "      <th>Outlet_Identifier</th>\n",
       "      <th>Item_Visibility_Mean_Ratio</th>\n",
       "      <th>Outlet_Years</th>\n",
       "      <th>Item_Fat_Content_0</th>\n",
       "      <th>Item_Fat_Content_1</th>\n",
       "      <th>...</th>\n",
       "      <th>Outlet_0</th>\n",
       "      <th>Outlet_1</th>\n",
       "      <th>Outlet_2</th>\n",
       "      <th>Outlet_3</th>\n",
       "      <th>Outlet_4</th>\n",
       "      <th>Outlet_5</th>\n",
       "      <th>Outlet_6</th>\n",
       "      <th>Outlet_7</th>\n",
       "      <th>Outlet_8</th>\n",
       "      <th>Outlet_9</th>\n",
       "    </tr>\n",
       "  </thead>\n",
       "  <tbody>\n",
       "    <tr>\n",
       "      <td>0</td>\n",
       "      <td>FDA15</td>\n",
       "      <td>249.8092</td>\n",
       "      <td>3735.1380</td>\n",
       "      <td>0.016047</td>\n",
       "      <td>9.30</td>\n",
       "      <td>OUT049</td>\n",
       "      <td>0.931078</td>\n",
       "      <td>14</td>\n",
       "      <td>1</td>\n",
       "      <td>0</td>\n",
       "      <td>...</td>\n",
       "      <td>0</td>\n",
       "      <td>0</td>\n",
       "      <td>0</td>\n",
       "      <td>0</td>\n",
       "      <td>0</td>\n",
       "      <td>0</td>\n",
       "      <td>0</td>\n",
       "      <td>0</td>\n",
       "      <td>0</td>\n",
       "      <td>1</td>\n",
       "    </tr>\n",
       "    <tr>\n",
       "      <td>1</td>\n",
       "      <td>DRC01</td>\n",
       "      <td>48.2692</td>\n",
       "      <td>443.4228</td>\n",
       "      <td>0.019278</td>\n",
       "      <td>5.92</td>\n",
       "      <td>OUT018</td>\n",
       "      <td>0.933420</td>\n",
       "      <td>4</td>\n",
       "      <td>0</td>\n",
       "      <td>0</td>\n",
       "      <td>...</td>\n",
       "      <td>0</td>\n",
       "      <td>0</td>\n",
       "      <td>0</td>\n",
       "      <td>1</td>\n",
       "      <td>0</td>\n",
       "      <td>0</td>\n",
       "      <td>0</td>\n",
       "      <td>0</td>\n",
       "      <td>0</td>\n",
       "      <td>0</td>\n",
       "    </tr>\n",
       "    <tr>\n",
       "      <td>2</td>\n",
       "      <td>FDN15</td>\n",
       "      <td>141.6180</td>\n",
       "      <td>2097.2700</td>\n",
       "      <td>0.016760</td>\n",
       "      <td>17.50</td>\n",
       "      <td>OUT049</td>\n",
       "      <td>0.960069</td>\n",
       "      <td>14</td>\n",
       "      <td>1</td>\n",
       "      <td>0</td>\n",
       "      <td>...</td>\n",
       "      <td>0</td>\n",
       "      <td>0</td>\n",
       "      <td>0</td>\n",
       "      <td>0</td>\n",
       "      <td>0</td>\n",
       "      <td>0</td>\n",
       "      <td>0</td>\n",
       "      <td>0</td>\n",
       "      <td>0</td>\n",
       "      <td>1</td>\n",
       "    </tr>\n",
       "    <tr>\n",
       "      <td>3</td>\n",
       "      <td>FDX07</td>\n",
       "      <td>182.0950</td>\n",
       "      <td>732.3800</td>\n",
       "      <td>0.017834</td>\n",
       "      <td>19.20</td>\n",
       "      <td>OUT010</td>\n",
       "      <td>1.000000</td>\n",
       "      <td>15</td>\n",
       "      <td>0</td>\n",
       "      <td>0</td>\n",
       "      <td>...</td>\n",
       "      <td>1</td>\n",
       "      <td>0</td>\n",
       "      <td>0</td>\n",
       "      <td>0</td>\n",
       "      <td>0</td>\n",
       "      <td>0</td>\n",
       "      <td>0</td>\n",
       "      <td>0</td>\n",
       "      <td>0</td>\n",
       "      <td>0</td>\n",
       "    </tr>\n",
       "    <tr>\n",
       "      <td>4</td>\n",
       "      <td>NCD19</td>\n",
       "      <td>53.8614</td>\n",
       "      <td>994.7052</td>\n",
       "      <td>0.009780</td>\n",
       "      <td>8.93</td>\n",
       "      <td>OUT013</td>\n",
       "      <td>1.000000</td>\n",
       "      <td>26</td>\n",
       "      <td>0</td>\n",
       "      <td>1</td>\n",
       "      <td>...</td>\n",
       "      <td>0</td>\n",
       "      <td>1</td>\n",
       "      <td>0</td>\n",
       "      <td>0</td>\n",
       "      <td>0</td>\n",
       "      <td>0</td>\n",
       "      <td>0</td>\n",
       "      <td>0</td>\n",
       "      <td>0</td>\n",
       "      <td>0</td>\n",
       "    </tr>\n",
       "  </tbody>\n",
       "</table>\n",
       "<p>5 rows × 34 columns</p>\n",
       "</div>"
      ],
      "text/plain": [
       "  Item_Identifier  Item_MRP  Item_Outlet_Sales  Item_Visibility  Item_Weight  \\\n",
       "0           FDA15  249.8092          3735.1380         0.016047         9.30   \n",
       "1           DRC01   48.2692           443.4228         0.019278         5.92   \n",
       "2           FDN15  141.6180          2097.2700         0.016760        17.50   \n",
       "3           FDX07  182.0950           732.3800         0.017834        19.20   \n",
       "4           NCD19   53.8614           994.7052         0.009780         8.93   \n",
       "\n",
       "  Outlet_Identifier  Item_Visibility_Mean_Ratio  Outlet_Years  \\\n",
       "0            OUT049                    0.931078            14   \n",
       "1            OUT018                    0.933420             4   \n",
       "2            OUT049                    0.960069            14   \n",
       "3            OUT010                    1.000000            15   \n",
       "4            OUT013                    1.000000            26   \n",
       "\n",
       "   Item_Fat_Content_0  Item_Fat_Content_1  ...  Outlet_0  Outlet_1  Outlet_2  \\\n",
       "0                   1                   0  ...         0         0         0   \n",
       "1                   0                   0  ...         0         0         0   \n",
       "2                   1                   0  ...         0         0         0   \n",
       "3                   0                   0  ...         1         0         0   \n",
       "4                   0                   1  ...         0         1         0   \n",
       "\n",
       "   Outlet_3  Outlet_4  Outlet_5  Outlet_6  Outlet_7  Outlet_8  Outlet_9  \n",
       "0         0         0         0         0         0         0         1  \n",
       "1         1         0         0         0         0         0         0  \n",
       "2         0         0         0         0         0         0         1  \n",
       "3         0         0         0         0         0         0         0  \n",
       "4         0         0         0         0         0         0         0  \n",
       "\n",
       "[5 rows x 34 columns]"
      ]
     },
     "execution_count": 48,
     "metadata": {},
     "output_type": "execute_result"
    }
   ],
   "source": [
    "train.head()"
   ]
  },
  {
   "cell_type": "markdown",
   "metadata": {},
   "source": [
    "# Step 5: Modeling"
   ]
  },
  {
   "cell_type": "code",
   "execution_count": 49,
   "metadata": {},
   "outputs": [],
   "source": [
    "# Create function to run multiple algorithm using the function\n",
    "\n",
    "\n",
    "from sklearn.model_selection import cross_val_score\n",
    "from sklearn import metrics\n",
    "\n",
    "def modelfit(alg, dtrain, dtest, predictors, target, IDcol, filename):\n",
    "    alg.fit(dtrain[predictors],dtrain[target])\n",
    "    \n",
    "    train_predict=alg.predict(dtrain[predictors])\n",
    "    \n",
    "    cvs=cross_val_score(alg,X=dtrain[predictors],y=dtrain[target],cv=20, scoring='neg_mean_squared_error')\n",
    "    cvs=np.sqrt(np.abs(cvs))\n",
    "    \n",
    "    print('RMSE is ', np.sqrt(metrics.mean_squared_error(train['Item_Outlet_Sales'].values,train_predict)))\n",
    "    \n",
    "    print('Mean error:', np.mean(cvs))\n",
    "    print('STD error:', np.std(cvs))\n",
    "    print('Min error:', np.min(cvs))\n",
    "    print('Max error:', np.max(cvs))\n",
    "    \n",
    "    \n",
    "    #predicting on test data\n",
    "    \n",
    "    dtest[target]=alg.predict(dtest[predictors])\n",
    "    \n",
    "    #Export final output file\n",
    "    IDcol.append(target)\n",
    "    \n",
    "    submission = pd.DataFrame({x: dtest[x] for x in IDcol})\n",
    "    submission.to_csv(filename,index=False)    "
   ]
  },
  {
   "cell_type": "markdown",
   "metadata": {},
   "source": [
    "## Linear Regression Model"
   ]
  },
  {
   "cell_type": "code",
   "execution_count": 50,
   "metadata": {},
   "outputs": [
    {
     "name": "stdout",
     "output_type": "stream",
     "text": [
      "RMSE is  1127.5431870039\n",
      "Mean error: 1129.1013950199917\n",
      "STD error: 43.74758067823454\n",
      "Min error: 1072.7617124816736\n",
      "Max error: 1211.7082445310034\n"
     ]
    },
    {
     "name": "stderr",
     "output_type": "stream",
     "text": [
      "c:\\users\\rajin\\appdata\\local\\programs\\python\\python37-32\\lib\\site-packages\\ipykernel_launcher.py:25: SettingWithCopyWarning: \n",
      "A value is trying to be set on a copy of a slice from a DataFrame.\n",
      "Try using .loc[row_indexer,col_indexer] = value instead\n",
      "\n",
      "See the caveats in the documentation: http://pandas.pydata.org/pandas-docs/stable/user_guide/indexing.html#returning-a-view-versus-a-copy\n"
     ]
    },
    {
     "data": {
      "text/plain": [
       "<matplotlib.axes._subplots.AxesSubplot at 0x125d4950>"
      ]
     },
     "execution_count": 50,
     "metadata": {},
     "output_type": "execute_result"
    },
    {
     "data": {
      "image/png": "[encoded data removed]",
      "text/plain": [
       "<Figure size 432x288 with 1 Axes>"
      ]
     },
     "metadata": {
      "needs_background": "light"
     },
     "output_type": "display_data"
    }
   ],
   "source": [
    "from sklearn.linear_model import LinearRegression, Ridge, Lasso\n",
    "\n",
    "target='Item_Outlet_Sales'\n",
    "IDcol=['Item_Identifier','Outlet_Identifier']\n",
    "predictors = [x for x in train.columns if x not in ['Item_Outlet_Sales','Item_Identifier','Outlet_Identifier']]\n",
    "\n",
    "alg1 = LinearRegression(normalize=True)\n",
    "\n",
    "modelfit(alg=alg1, dtrain=train, dtest=test, predictors=predictors, target=target, IDcol=IDcol, filename='../output/LinearRegression.csv')\n",
    "\n",
    "coef1 = pd.Series(alg1.coef_, predictors).sort_values()\n",
    "coef1.plot(kind='bar', title='Model Coefficients')"
   ]
  },
  {
   "cell_type": "markdown",
   "metadata": {},
   "source": [
    "## Ridge Model"
   ]
  },
  {
   "cell_type": "code",
   "execution_count": 51,
   "metadata": {},
   "outputs": [
    {
     "name": "stdout",
     "output_type": "stream",
     "text": [
      "RMSE is  1128.6249817365358\n",
      "Mean error: 1129.8816114842225\n",
      "STD error: 44.60491566772174\n",
      "Min error: 1075.5933988732845\n",
      "Max error: 1216.7683204350772\n"
     ]
    },
    {
     "name": "stderr",
     "output_type": "stream",
     "text": [
      "c:\\users\\rajin\\appdata\\local\\programs\\python\\python37-32\\lib\\site-packages\\ipykernel_launcher.py:25: SettingWithCopyWarning: \n",
      "A value is trying to be set on a copy of a slice from a DataFrame.\n",
      "Try using .loc[row_indexer,col_indexer] = value instead\n",
      "\n",
      "See the caveats in the documentation: http://pandas.pydata.org/pandas-docs/stable/user_guide/indexing.html#returning-a-view-versus-a-copy\n"
     ]
    },
    {
     "data": {
      "text/plain": [
       "<matplotlib.axes._subplots.AxesSubplot at 0x126a3930>"
      ]
     },
     "execution_count": 51,
     "metadata": {},
     "output_type": "execute_result"
    },
    {
     "data": {
      "image/png": "[encoded data removed]",
      "text/plain": [
       "<Figure size 432x288 with 1 Axes>"
      ]
     },
     "metadata": {
      "needs_background": "light"
     },
     "output_type": "display_data"
    }
   ],
   "source": [
    "from sklearn.linear_model import Ridge\n",
    "\n",
    "target='Item_Outlet_Sales'\n",
    "IDcol=['Item_Identifier','Outlet_Identifier']\n",
    "predictors = [x for x in train.columns if x not in [target]+IDcol]\n",
    "\n",
    "alg2 = Ridge(alpha=0.05,normalize=True)\n",
    "\n",
    "modelfit(alg=alg2, dtrain=train, dtest=test, predictors=predictors, target=target, IDcol=IDcol, filename='../output/RidgeOutput.csv')\n",
    "\n",
    "coef1 = pd.Series(alg2.coef_, predictors).sort_values()\n",
    "coef1.plot(kind='bar', title='Model Coefficients')"
   ]
  },
  {
   "cell_type": "markdown",
   "metadata": {},
   "source": [
    "## Decision Tree"
   ]
  },
  {
   "cell_type": "code",
   "execution_count": 52,
   "metadata": {},
   "outputs": [],
   "source": [
    "from sklearn.tree import DecisionTreeRegressor"
   ]
  },
  {
   "cell_type": "code",
   "execution_count": 53,
   "metadata": {},
   "outputs": [
    {
     "name": "stdout",
     "output_type": "stream",
     "text": [
      "RMSE is  1057.6934941675377\n",
      "Mean error: 1091.4968931846695\n",
      "STD error: 45.4200019619013\n",
      "Min error: 1002.7950800985651\n",
      "Max error: 1186.4108567725732\n"
     ]
    },
    {
     "name": "stderr",
     "output_type": "stream",
     "text": [
      "c:\\users\\rajin\\appdata\\local\\programs\\python\\python37-32\\lib\\site-packages\\ipykernel_launcher.py:25: SettingWithCopyWarning: \n",
      "A value is trying to be set on a copy of a slice from a DataFrame.\n",
      "Try using .loc[row_indexer,col_indexer] = value instead\n",
      "\n",
      "See the caveats in the documentation: http://pandas.pydata.org/pandas-docs/stable/user_guide/indexing.html#returning-a-view-versus-a-copy\n"
     ]
    },
    {
     "data": {
      "text/plain": [
       "<matplotlib.axes._subplots.AxesSubplot at 0x14b9fd30>"
      ]
     },
     "execution_count": 53,
     "metadata": {},
     "output_type": "execute_result"
    },
    {
     "data": {
      "image/png": "[encoded data removed]",
      "text/plain": [
       "<Figure size 432x288 with 1 Axes>"
      ]
     },
     "metadata": {
      "needs_background": "light"
     },
     "output_type": "display_data"
    }
   ],
   "source": [
    "\n",
    "\n",
    "target='Item_Outlet_Sales'\n",
    "IDcol=['Item_Identifier','Outlet_Identifier']\n",
    "predictors = [x for x in train.columns if x not in [target]+IDcol]\n",
    "\n",
    "alg3 = DecisionTreeRegressor(max_depth=15, min_samples_leaf=100)\n",
    "\n",
    "modelfit(alg=alg3, dtrain=train, dtest=test, predictors=predictors, target=target, IDcol=IDcol, filename='../output/DecisionTreeOutput.csv')\n",
    "\n",
    "coef1 = pd.Series(alg3.feature_importances_, predictors).sort_values(ascending=False)\n",
    "coef1.plot(kind='bar', title='Feature Importances')"
   ]
  },
  {
   "cell_type": "code",
   "execution_count": 54,
   "metadata": {},
   "outputs": [
    {
     "name": "stdout",
     "output_type": "stream",
     "text": [
      "RMSE is  1071.2364214016316\n",
      "Mean error: 1096.1065402097997\n",
      "STD error: 43.30211900031147\n",
      "Min error: 1027.3440164414137\n",
      "Max error: 1171.5022305730886\n"
     ]
    },
    {
     "name": "stderr",
     "output_type": "stream",
     "text": [
      "c:\\users\\rajin\\appdata\\local\\programs\\python\\python37-32\\lib\\site-packages\\ipykernel_launcher.py:25: SettingWithCopyWarning: \n",
      "A value is trying to be set on a copy of a slice from a DataFrame.\n",
      "Try using .loc[row_indexer,col_indexer] = value instead\n",
      "\n",
      "See the caveats in the documentation: http://pandas.pydata.org/pandas-docs/stable/user_guide/indexing.html#returning-a-view-versus-a-copy\n"
     ]
    },
    {
     "data": {
      "text/plain": [
       "<matplotlib.axes._subplots.AxesSubplot at 0x14d0e550>"
      ]
     },
     "execution_count": 54,
     "metadata": {},
     "output_type": "execute_result"
    },
    {
     "data": {
      "image/png": "[encoded data removed]",
      "text/plain": [
       "<Figure size 432x288 with 1 Axes>"
      ]
     },
     "metadata": {
      "needs_background": "light"
     },
     "output_type": "display_data"
    }
   ],
   "source": [
    "target='Item_Outlet_Sales'\n",
    "IDcol=['Item_Identifier','Outlet_Identifier']\n",
    "predictors = ['Item_MRP','Outlet_Type_0','Outlet_Years','Outlet_5']\n",
    "\n",
    "alg4 = DecisionTreeRegressor(max_depth=8, min_samples_leaf=150)\n",
    "\n",
    "modelfit(alg=alg4, dtrain=train, dtest=test, predictors=predictors, target=target, IDcol=IDcol, filename='../output/DecisionTreeOutput_4Var.csv')\n",
    "\n",
    "coef1 = pd.Series(alg4.feature_importances_, predictors).sort_values(ascending=False)\n",
    "coef1.plot(kind='bar', title='Feature Importances')"
   ]
  },
  {
   "cell_type": "markdown",
   "metadata": {},
   "source": [
    "## Random Forest"
   ]
  },
  {
   "cell_type": "code",
   "execution_count": 55,
   "metadata": {},
   "outputs": [],
   "source": [
    "from sklearn.ensemble import RandomForestRegressor"
   ]
  },
  {
   "cell_type": "code",
   "execution_count": 56,
   "metadata": {},
   "outputs": [
    {
     "name": "stdout",
     "output_type": "stream",
     "text": [
      "RMSE is  1073.4486193674975\n",
      "Mean error: 1083.5657503211473\n",
      "STD error: 43.65718767706261\n",
      "Min error: 1020.0852183924642\n",
      "Max error: 1161.6635752677357\n"
     ]
    },
    {
     "name": "stderr",
     "output_type": "stream",
     "text": [
      "c:\\users\\rajin\\appdata\\local\\programs\\python\\python37-32\\lib\\site-packages\\ipykernel_launcher.py:25: SettingWithCopyWarning: \n",
      "A value is trying to be set on a copy of a slice from a DataFrame.\n",
      "Try using .loc[row_indexer,col_indexer] = value instead\n",
      "\n",
      "See the caveats in the documentation: http://pandas.pydata.org/pandas-docs/stable/user_guide/indexing.html#returning-a-view-versus-a-copy\n"
     ]
    },
    {
     "data": {
      "text/plain": [
       "<matplotlib.axes._subplots.AxesSubplot at 0x14e91bb0>"
      ]
     },
     "execution_count": 56,
     "metadata": {},
     "output_type": "execute_result"
    },
    {
     "data": {
      "image/png": "[encoded data removed]",
      "text/plain": [
       "<Figure size 432x288 with 1 Axes>"
      ]
     },
     "metadata": {
      "needs_background": "light"
     },
     "output_type": "display_data"
    }
   ],
   "source": [
    "\n",
    "target='Item_Outlet_Sales'\n",
    "IDcol=['Item_Identifier','Outlet_Identifier']\n",
    "predictors = [x for x in train.columns if x not in [target]+IDcol]\n",
    "\n",
    "alg5 = RandomForestRegressor(n_estimators=200, max_depth=5, min_samples_leaf=100)\n",
    "\n",
    "modelfit(alg=alg5, dtrain=train, dtest=test, predictors=predictors, target=target, IDcol=IDcol, filename='../output/RandomForestOutput.csv')\n",
    "\n",
    "coef1 = pd.Series(alg5.feature_importances_, predictors).sort_values(ascending=False)\n",
    "coef1.plot(kind='bar', title='Feature Importances')"
   ]
  },
  {
   "cell_type": "markdown",
   "metadata": {},
   "source": [
    "## GBM Model"
   ]
  },
  {
   "cell_type": "code",
   "execution_count": 57,
   "metadata": {},
   "outputs": [],
   "source": [
    "from sklearn.ensemble import GradientBoostingRegressor"
   ]
  },
  {
   "cell_type": "code",
   "execution_count": 58,
   "metadata": {
    "scrolled": true
   },
   "outputs": [
    {
     "name": "stdout",
     "output_type": "stream",
     "text": [
      "RMSE is  1031.4984548577718\n",
      "Mean error: 1085.957543618458\n",
      "STD error: 46.504406226713726\n",
      "Min error: 1009.1805366184904\n",
      "Max error: 1172.8487360297463\n"
     ]
    },
    {
     "name": "stderr",
     "output_type": "stream",
     "text": [
      "c:\\users\\rajin\\appdata\\local\\programs\\python\\python37-32\\lib\\site-packages\\ipykernel_launcher.py:25: SettingWithCopyWarning: \n",
      "A value is trying to be set on a copy of a slice from a DataFrame.\n",
      "Try using .loc[row_indexer,col_indexer] = value instead\n",
      "\n",
      "See the caveats in the documentation: http://pandas.pydata.org/pandas-docs/stable/user_guide/indexing.html#returning-a-view-versus-a-copy\n"
     ]
    },
    {
     "data": {
      "text/plain": [
       "<matplotlib.axes._subplots.AxesSubplot at 0xb723db0>"
      ]
     },
     "execution_count": 58,
     "metadata": {},
     "output_type": "execute_result"
    },
    {
     "data": {
      "image/png": "[encoded data removed]",
      "text/plain": [
       "<Figure size 432x288 with 1 Axes>"
      ]
     },
     "metadata": {
      "needs_background": "light"
     },
     "output_type": "display_data"
    }
   ],
   "source": [
    "target='Item_Outlet_Sales'\n",
    "IDcol=['Item_Identifier','Outlet_Identifier']\n",
    "predictors = [x for x in train.columns if x not in [target]+IDcol]\n",
    "\n",
    "alg6 = GradientBoostingRegressor()\n",
    "\n",
    "modelfit(alg=alg6, dtrain=train, dtest=test, predictors=predictors, target=target, IDcol=IDcol, filename='../output/GBMOutput.csv')\n",
    "\n",
    "coef1 = pd.Series(alg6.feature_importances_, predictors).sort_values(ascending=False)\n",
    "coef1.plot(kind='bar', title='Feature Importances')"
   ]
  },
  {
   "cell_type": "markdown",
   "metadata": {},
   "source": [
    "## GBM with Parameter Tuning"
   ]
  },
  {
   "cell_type": "markdown",
   "metadata": {},
   "source": [
    "## Step 1: Fix Learning Rate and tree based parameters and tune for number of estimators\n",
    "\n",
    "1. min_samples_split= 100: This should be 1% of total values. Since total rows in training data in 8523, fixing it to 100\n",
    "2. min_samples_leaf = 100: Selecting based on intuition\n",
    "3. max_depth = 8: should be chosen between 5 - 8 based on number of rows\n",
    "4. max_features= sqrt : Its a general thumb rule to start with square root\n",
    "5. subsample= 0.8: This is commonly used start value"
   ]
  },
  {
   "cell_type": "code",
   "execution_count": 59,
   "metadata": {},
   "outputs": [],
   "source": [
    "from sklearn.model_selection import GridSearchCV"
   ]
  },
  {
   "cell_type": "code",
   "execution_count": 60,
   "metadata": {
    "scrolled": true
   },
   "outputs": [
    {
     "name": "stderr",
     "output_type": "stream",
     "text": [
      "c:\\users\\rajin\\appdata\\local\\programs\\python\\python37-32\\lib\\site-packages\\sklearn\\model_selection\\_search.py:823: FutureWarning: The parameter 'iid' is deprecated in 0.22 and will be removed in 0.24.\n",
      "  \"removed in 0.24.\", FutureWarning\n"
     ]
    },
    {
     "name": "stdout",
     "output_type": "stream",
     "text": [
      "Mean error: 1091.6237838674558\n",
      "Best Parameter: {'n_estimators': 60}\n"
     ]
    }
   ],
   "source": [
    "target='Item_Outlet_Sales'\n",
    "IDcol=['Item_Identifier','Outlet_Identifier']\n",
    "predictors = [x for x in train.columns if x not in [target]+IDcol]\n",
    "\n",
    "param_grid={'n_estimators': range(20,101,10)}\n",
    "gsearch1 = GridSearchCV(estimator=GradientBoostingRegressor(learning_rate=0.1,subsample=0.8,min_samples_split=100,\n",
    "                                                            min_samples_leaf=100,max_depth=8,max_features='sqrt',random_state=10),\n",
    "                        param_grid=param_grid,scoring='neg_mean_squared_error',cv=5,iid=False)\n",
    "\n",
    "gsearch1.fit(train[predictors],train[target])\n",
    "\n",
    "print('Mean error:', np.sqrt(np.abs(gsearch1.best_score_)))\n",
    "print('Best Parameter:',gsearch1.best_params_)"
   ]
  },
  {
   "cell_type": "markdown",
   "metadata": {},
   "source": [
    "We got 60 as the optimal estimator for 0.1 learning rate. 60 is a reasonable value and can be used as it is. If the value is too low then you might consider lowering the value of learning_rate "
   ]
  },
  {
   "cell_type": "markdown",
   "metadata": {},
   "source": [
    "## Step 2: Tuning Tree based Parameters"
   ]
  },
  {
   "cell_type": "code",
   "execution_count": 61,
   "metadata": {},
   "outputs": [
    {
     "name": "stderr",
     "output_type": "stream",
     "text": [
      "c:\\users\\rajin\\appdata\\local\\programs\\python\\python37-32\\lib\\site-packages\\sklearn\\model_selection\\_search.py:823: FutureWarning: The parameter 'iid' is deprecated in 0.22 and will be removed in 0.24.\n",
      "  \"removed in 0.24.\", FutureWarning\n"
     ]
    },
    {
     "name": "stdout",
     "output_type": "stream",
     "text": [
      "Mean error: 1090.7505262738166\n",
      "Best Parameter: {'min_samples_split': 260}\n"
     ]
    }
   ],
   "source": [
    "# Tuning min_samples_split\n",
    "\n",
    "target='Item_Outlet_Sales'\n",
    "IDcol=['Item_Identifier','Outlet_Identifier']\n",
    "predictors = [x for x in train.columns if x not in [target]+IDcol]\n",
    "\n",
    "param_grid={'min_samples_split': range(100,301,20)}\n",
    "gsearch2 = GridSearchCV(estimator=GradientBoostingRegressor(learning_rate=0.1,n_estimators=60,subsample=0.8,\n",
    "                                                            min_samples_leaf=100,max_depth=8,max_features='sqrt',random_state=10),\n",
    "                        param_grid=param_grid,scoring='neg_mean_squared_error',cv=5,iid=False)\n",
    "\n",
    "gsearch2.fit(train[predictors],train[target])\n",
    "\n",
    "print('Mean error:', np.sqrt(np.abs(gsearch2.best_score_)))\n",
    "print('Best Parameter:',gsearch2.best_params_)"
   ]
  },
  {
   "cell_type": "code",
   "execution_count": 62,
   "metadata": {},
   "outputs": [
    {
     "name": "stderr",
     "output_type": "stream",
     "text": [
      "c:\\users\\rajin\\appdata\\local\\programs\\python\\python37-32\\lib\\site-packages\\sklearn\\model_selection\\_search.py:823: FutureWarning: The parameter 'iid' is deprecated in 0.22 and will be removed in 0.24.\n",
      "  \"removed in 0.24.\", FutureWarning\n"
     ]
    },
    {
     "name": "stdout",
     "output_type": "stream",
     "text": [
      "Mean error: 1090.7505262738166\n",
      "Best Parameter: {'min_samples_leaf': 100}\n"
     ]
    }
   ],
   "source": [
    "# Tuning min_samples_leaf\n",
    "\n",
    "target='Item_Outlet_Sales'\n",
    "IDcol=['Item_Identifier','Outlet_Identifier']\n",
    "predictors = [x for x in train.columns if x not in [target]+IDcol]\n",
    "\n",
    "param_grid={'min_samples_leaf': range(60,301,20)}\n",
    "gsearch3 = GridSearchCV(estimator=GradientBoostingRegressor(learning_rate=0.1,n_estimators=60,subsample=0.8,\n",
    "                                                            min_samples_split=260,max_depth=8,max_features='sqrt',random_state=10),\n",
    "                        param_grid=param_grid,scoring='neg_mean_squared_error',cv=5,iid=False)\n",
    "\n",
    "gsearch3.fit(train[predictors],train[target])\n",
    "\n",
    "print('Mean error:', np.sqrt(np.abs(gsearch3.best_score_)))\n",
    "print('Best Parameter:',gsearch3.best_params_)"
   ]
  },
  {
   "cell_type": "code",
   "execution_count": 63,
   "metadata": {},
   "outputs": [
    {
     "name": "stderr",
     "output_type": "stream",
     "text": [
      "c:\\users\\rajin\\appdata\\local\\programs\\python\\python37-32\\lib\\site-packages\\sklearn\\model_selection\\_search.py:823: FutureWarning: The parameter 'iid' is deprecated in 0.22 and will be removed in 0.24.\n",
      "  \"removed in 0.24.\", FutureWarning\n"
     ]
    },
    {
     "name": "stdout",
     "output_type": "stream",
     "text": [
      "Mean error: 1090.0834346030113\n",
      "Best Parameter: {'max_depth': 6}\n"
     ]
    }
   ],
   "source": [
    "# Tuning max_depth\n",
    "\n",
    "target='Item_Outlet_Sales'\n",
    "IDcol=['Item_Identifier','Outlet_Identifier']\n",
    "predictors = [x for x in train.columns if x not in [target]+IDcol]\n",
    "\n",
    "param_grid={'max_depth': range(4,15,2)}\n",
    "gsearch4 = GridSearchCV(estimator=GradientBoostingRegressor(learning_rate=0.1,n_estimators=60,subsample=0.8,\n",
    "                                                            min_samples_split=260,min_samples_leaf=100,max_features='sqrt',random_state=10),\n",
    "                        param_grid=param_grid,scoring='neg_mean_squared_error',cv=5,iid=False)\n",
    "\n",
    "gsearch4.fit(train[predictors],train[target])\n",
    "\n",
    "print('Mean error:', np.sqrt(np.abs(gsearch4.best_score_)))\n",
    "print('Best Parameter:',gsearch4.best_params_)"
   ]
  },
  {
   "cell_type": "code",
   "execution_count": 64,
   "metadata": {},
   "outputs": [
    {
     "name": "stderr",
     "output_type": "stream",
     "text": [
      "c:\\users\\rajin\\appdata\\local\\programs\\python\\python37-32\\lib\\site-packages\\sklearn\\model_selection\\_search.py:823: FutureWarning: The parameter 'iid' is deprecated in 0.22 and will be removed in 0.24.\n",
      "  \"removed in 0.24.\", FutureWarning\n"
     ]
    },
    {
     "name": "stdout",
     "output_type": "stream",
     "text": [
      "Mean error: 1085.511676249769\n",
      "Best Parameter: {'max_features': 20}\n"
     ]
    }
   ],
   "source": [
    "# Tuning max_features\n",
    "\n",
    "target='Item_Outlet_Sales'\n",
    "IDcol=['Item_Identifier','Outlet_Identifier']\n",
    "predictors = [x for x in train.columns if x not in [target]+IDcol]\n",
    "\n",
    "param_grid={'max_features': range(2,21,2)}\n",
    "gsearch5 = GridSearchCV(estimator=GradientBoostingRegressor(learning_rate=0.1,n_estimators=60,subsample=0.8,\n",
    "                                                            min_samples_split=260,min_samples_leaf=100,max_depth=6,random_state=10),\n",
    "                        param_grid=param_grid,scoring='neg_mean_squared_error',cv=5,iid=False)\n",
    "\n",
    "gsearch5.fit(train[predictors],train[target])\n",
    "\n",
    "print('Mean error:', np.sqrt(np.abs(gsearch5.best_score_)))\n",
    "print('Best Parameter:',gsearch5.best_params_)"
   ]
  },
  {
   "cell_type": "code",
   "execution_count": 65,
   "metadata": {},
   "outputs": [
    {
     "name": "stderr",
     "output_type": "stream",
     "text": [
      "c:\\users\\rajin\\appdata\\local\\programs\\python\\python37-32\\lib\\site-packages\\sklearn\\model_selection\\_search.py:823: FutureWarning: The parameter 'iid' is deprecated in 0.22 and will be removed in 0.24.\n",
      "  \"removed in 0.24.\", FutureWarning\n"
     ]
    },
    {
     "name": "stdout",
     "output_type": "stream",
     "text": [
      "Mean error: 1085.3037523545318\n",
      "Best Parameter: {'subsample': 0.75}\n"
     ]
    }
   ],
   "source": [
    "# Tuning subsample\n",
    "\n",
    "target='Item_Outlet_Sales'\n",
    "IDcol=['Item_Identifier','Outlet_Identifier']\n",
    "predictors = [x for x in train.columns if x not in [target]+IDcol]\n",
    "\n",
    "param_grid={'subsample': [0.6,0.7,0.75,0.8,0.85,0.9]}\n",
    "gsearch6 = GridSearchCV(estimator=GradientBoostingRegressor(learning_rate=0.1,n_estimators=60,max_features=20,\n",
    "                                                            min_samples_split=260,min_samples_leaf=100,max_depth=6,random_state=10),\n",
    "                        param_grid=param_grid,scoring='neg_mean_squared_error',cv=5,iid=False)\n",
    "\n",
    "gsearch6.fit(train[predictors],train[target])\n",
    "\n",
    "print('Mean error:', np.sqrt(np.abs(gsearch6.best_score_)))\n",
    "print('Best Parameter:',gsearch6.best_params_)"
   ]
  },
  {
   "cell_type": "code",
   "execution_count": 66,
   "metadata": {},
   "outputs": [
    {
     "name": "stdout",
     "output_type": "stream",
     "text": [
      "RMSE is  1034.087976627341\n",
      "Mean error: 1082.7438791124641\n",
      "STD error: 48.271624684174675\n",
      "Min error: 1008.9533538111574\n",
      "Max error: 1175.035941883688\n"
     ]
    },
    {
     "name": "stderr",
     "output_type": "stream",
     "text": [
      "c:\\users\\rajin\\appdata\\local\\programs\\python\\python37-32\\lib\\site-packages\\ipykernel_launcher.py:25: SettingWithCopyWarning: \n",
      "A value is trying to be set on a copy of a slice from a DataFrame.\n",
      "Try using .loc[row_indexer,col_indexer] = value instead\n",
      "\n",
      "See the caveats in the documentation: http://pandas.pydata.org/pandas-docs/stable/user_guide/indexing.html#returning-a-view-versus-a-copy\n"
     ]
    },
    {
     "data": {
      "text/plain": [
       "<matplotlib.axes._subplots.AxesSubplot at 0xb93edd0>"
      ]
     },
     "execution_count": 66,
     "metadata": {},
     "output_type": "execute_result"
    },
    {
     "data": {
      "image/png": "[encoded data removed]",
      "text/plain": [
       "<Figure size 432x288 with 1 Axes>"
      ]
     },
     "metadata": {
      "needs_background": "light"
     },
     "output_type": "display_data"
    }
   ],
   "source": [
    "# Run the GB Regressor with the tuned parameters\n",
    "target='Item_Outlet_Sales'\n",
    "IDcol=['Item_Identifier','Outlet_Identifier']\n",
    "predictors = [x for x in train.columns if x not in [target]+IDcol]\n",
    "\n",
    "alg7 = GradientBoostingRegressor(learning_rate=0.1,n_estimators=60,subsample=0.75,\n",
    "                                 max_features=20,min_samples_split=260,min_samples_leaf=100,\n",
    "                                 max_depth=6,random_state=10)\n",
    "\n",
    "modelfit(alg=alg7, dtrain=train, dtest=test, predictors=predictors, target=target, IDcol=IDcol, filename='../output/GBM_ParamTuning_Output.csv')\n",
    "\n",
    "coef1 = pd.Series(alg7.feature_importances_, predictors).sort_values(ascending=False)\n",
    "coef1.plot(kind='bar', title='Feature Importances')"
   ]
  },
  {
   "cell_type": "code",
   "execution_count": 67,
   "metadata": {},
   "outputs": [
    {
     "name": "stdout",
     "output_type": "stream",
     "text": [
      "RMSE is  1030.7780523892277\n",
      "Mean error: 1081.1946737044855\n",
      "STD error: 47.3642861994534\n",
      "Min error: 1014.4589092879075\n",
      "Max error: 1173.2270970286884\n"
     ]
    },
    {
     "name": "stderr",
     "output_type": "stream",
     "text": [
      "c:\\users\\rajin\\appdata\\local\\programs\\python\\python37-32\\lib\\site-packages\\ipykernel_launcher.py:25: SettingWithCopyWarning: \n",
      "A value is trying to be set on a copy of a slice from a DataFrame.\n",
      "Try using .loc[row_indexer,col_indexer] = value instead\n",
      "\n",
      "See the caveats in the documentation: http://pandas.pydata.org/pandas-docs/stable/user_guide/indexing.html#returning-a-view-versus-a-copy\n"
     ]
    },
    {
     "data": {
      "text/plain": [
       "<matplotlib.axes._subplots.AxesSubplot at 0x5703870>"
      ]
     },
     "execution_count": 67,
     "metadata": {},
     "output_type": "execute_result"
    },
    {
     "data": {
      "image/png": "[encoded data removed]",
      "text/plain": [
       "<Figure size 432x288 with 1 Axes>"
      ]
     },
     "metadata": {
      "needs_background": "light"
     },
     "output_type": "display_data"
    }
   ],
   "source": [
    "# Now lets tune Learning_Rate by changing value of number of estimators\n",
    "\n",
    "target='Item_Outlet_Sales'\n",
    "IDcol=['Item_Identifier','Outlet_Identifier']\n",
    "predictors = [x for x in train.columns if x not in [target]+IDcol]\n",
    "\n",
    "alg7 = GradientBoostingRegressor(learning_rate=0.01,n_estimators=600,subsample=0.75,\n",
    "                                 max_features=20,min_samples_split=260,min_samples_leaf=100,\n",
    "                                 max_depth=6,random_state=10)\n",
    "\n",
    "modelfit(alg=alg7, dtrain=train, dtest=test, predictors=predictors, target=target, IDcol=IDcol, filename='../output/GBM_ParamTuning_Output.csv')\n",
    "\n",
    "coef1 = pd.Series(alg7.feature_importances_, predictors).sort_values(ascending=False)\n",
    "coef1.plot(kind='bar', title='Feature Importances')"
   ]
  },
  {
   "cell_type": "markdown",
   "metadata": {},
   "source": [
    "## This was my final submission to AV BigMartSalesIII Competition\n",
    "You can further try xgboost and see if score improved with that"
   ]
  },
  {
   "cell_type": "markdown",
   "metadata": {},
   "source": []
  }
 ],
 "metadata": {
  "kernelspec": {
   "display_name": "Python 3",
   "language": "python",
   "name": "python3"
  },
  "language_info": {
   "codemirror_mode": {
    "name": "ipython",
    "version": 3
   },
   "file_extension": ".py",
   "mimetype": "text/x-python",
   "name": "python",
   "nbconvert_exporter": "python",
   "pygments_lexer": "ipython3",
   "version": "3.7.4"
  }
 },
 "nbformat": 4,
 "nbformat_minor": 4
}
